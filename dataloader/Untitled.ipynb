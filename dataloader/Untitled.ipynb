{
 "cells": [
  {
   "cell_type": "code",
   "execution_count": 1,
   "metadata": {},
   "outputs": [],
   "source": [
    "from utils import *"
   ]
  },
  {
   "cell_type": "code",
   "execution_count": 3,
   "metadata": {},
   "outputs": [
    {
     "name": "stdout",
     "output_type": "stream",
     "text": [
      "(9, 5, 3, 3)\n",
      "(5, 3, 3)\n",
      "(9, 1, 5, 5)\n",
      "(1, 5, 5)\n"
     ]
    }
   ],
   "source": [
    "aster_data = Aster(24)\n",
    "chirps_data = CHIRPS(24)\n",
    "\n",
    "print(aster_data.get_x_data().shape)\n",
    "print(aster_data.get_y_data().shape)\n",
    "\n",
    "print(chirps_data.get_x_data().shape)\n",
    "print(chirps_data.get_y_data().shape)"
   ]
  }
 ],
 "metadata": {
  "kernelspec": {
   "display_name": "Python 3",
   "language": "python",
   "name": "python3"
  },
  "language_info": {
   "codemirror_mode": {
    "name": "ipython",
    "version": 3
   },
   "file_extension": ".py",
   "mimetype": "text/x-python",
   "name": "python",
   "nbconvert_exporter": "python",
   "pygments_lexer": "ipython3",
   "version": "3.8.5"
  }
 },
 "nbformat": 4,
 "nbformat_minor": 4
}
