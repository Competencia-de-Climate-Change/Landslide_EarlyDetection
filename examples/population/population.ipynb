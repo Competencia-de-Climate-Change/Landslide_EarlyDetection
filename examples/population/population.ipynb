{
 "cells": [
  {
   "cell_type": "code",
   "execution_count": 2,
   "metadata": {
    "ExecuteTime": {
     "end_time": "2020-11-24T19:33:17.607544Z",
     "start_time": "2020-11-24T19:33:17.563620Z"
    }
   },
   "outputs": [],
   "source": [
    "%load_ext autoreload\n",
    "%autoreload 2\n"
   ]
  },
  {
   "cell_type": "code",
   "execution_count": 6,
   "metadata": {
    "ExecuteTime": {
     "end_time": "2020-11-24T19:35:20.083098Z",
     "start_time": "2020-11-24T19:35:04.931669Z"
    }
   },
   "outputs": [
    {
     "data": {
      "text/plain": [
       "location_description        Ayu, Ozgon, Osh, Kyrgyzstan\n",
       "landslide_size                                    large\n",
       "event_date                                   2017-04-29\n",
       "landslide_category                  translational_slide\n",
       "landslide_trigger                              downpour\n",
       "fatality_count                                       24\n",
       "injury_count                                        NaN\n",
       "longitude                                       73.4724\n",
       "latitude                                        40.8864\n",
       "geometry                POINT (73.47237853 40.88639497)\n",
       "Name: 11031, dtype: object"
      ]
     },
     "execution_count": 6,
     "metadata": {},
     "output_type": "execute_result"
    }
   ],
   "source": [
    "import sys\n",
    "sys.path.append('../../')\n",
    "\n",
    "from pprint import pprint\n",
    "import numpy as np\n",
    "import descarteslabs as dl\n",
    "\n",
    "from src.ReMasFrame import *\n",
    "\n",
    "nasa_df = ReMasFrame()\n",
    "\n",
    "# Choose an idx --> a landslide (or filter the geodataframe :D)\n",
    "idx_test = 11031\n",
    "\n",
    "# changes Point to Polygon\n",
    "# nasa_df_polygon = nasa_df.create_box(8000000)\n",
    "\n",
    "# Returns products that we use as a dict\n",
    "products = nasa_df.get_products()\n",
    "\n",
    "nasa_df.loc[idx_test, :]"
   ]
  },
  {
   "cell_type": "code",
   "execution_count": 7,
   "metadata": {
    "ExecuteTime": {
     "end_time": "2020-11-24T19:35:20.160316Z",
     "start_time": "2020-11-24T19:35:20.091640Z"
    }
   },
   "outputs": [
    {
     "name": "stdout",
     "output_type": "stream",
     "text": [
      "{'bands': ['population'],\n",
      " 'id': 'd15c019579fa0985f7006094bba7c7288f830e1f:GPW_Population_Density_V4_0',\n",
      " 'res': '1km'}\n"
     ]
    }
   ],
   "source": [
    "pprint(products['population'])"
   ]
  },
  {
   "cell_type": "code",
   "execution_count": 50,
   "metadata": {
    "ExecuteTime": {
     "end_time": "2020-11-24T20:00:28.566211Z",
     "start_time": "2020-11-24T20:00:28.501586Z"
    }
   },
   "outputs": [],
   "source": [
    "def get_population(product, res=0.01, buffer_size=0.1):\n",
    "    \n",
    "    scenes, ctx = ReMasFrame.search_scenes(\n",
    "        nasa_df['geometry'][idx_test].buffer(buffer_size).envelope, \n",
    "        product['id'], \n",
    "        start_date=\"2000-01-01\"\n",
    "    )\n",
    "    \n",
    "    # get closest date to event\n",
    "    from datetime import timedelta\n",
    "    \n",
    "    e_date = parse(nasa_df.event_date[idx_test])\n",
    "    \n",
    "    min_dist_idx = [timedelta(days=10e6), -1]\n",
    "    \n",
    "    for idx, scene in enumerate(scenes):\n",
    "        dist = abs(scene.properties.date - e_date)\n",
    "        if  dist < min_dist_idx[0]:\n",
    "            min_dist_idx = [dist, idx]\n",
    "    \n",
    "    new_ctx = ctx.assign(resolution=res)\n",
    "    \n",
    "    return (scenes[min_dist_idx[1]], new_ctx)"
   ]
  },
  {
   "cell_type": "code",
   "execution_count": 55,
   "metadata": {
    "ExecuteTime": {
     "end_time": "2020-11-24T20:01:24.804872Z",
     "start_time": "2020-11-24T20:01:23.368267Z"
    }
   },
   "outputs": [
    {
     "data": {
      "text/plain": [
       "Scene \"d15c019579fa0985f7006094bba7c7288f830e1f:GPW_Population_Density_V4_0:gpw_v4_population_density_rev11_2015_30_sec\"\n",
       "  * Product: \"d15c019579fa0985f7006094bba7c7288f830e1f:GPW_Population_Density_V4_0\"\n",
       "  * CRS: \"+proj=longlat +datum=WGS84 +no_defs \"\n",
       "  * Date: Thu Jan  1 00:00:00 2015\n",
       "  * Bands:\n",
       "    * population: Float32, [0.0, 2000000.0]"
      ]
     },
     "execution_count": 55,
     "metadata": {},
     "output_type": "execute_result"
    }
   ],
   "source": [
    "(scene, ctx) = get_population(products['population'])\n",
    "\n",
    "array = scene.ndarray(\"population\", ctx)\n",
    "\n",
    "scene"
   ]
  },
  {
   "cell_type": "code",
   "execution_count": 58,
   "metadata": {
    "ExecuteTime": {
     "end_time": "2020-11-24T20:01:40.534898Z",
     "start_time": "2020-11-24T20:01:40.473963Z"
    }
   },
   "outputs": [
    {
     "data": {
      "text/plain": [
       "((1, 21, 21), 76.49674036281179)"
      ]
     },
     "execution_count": 58,
     "metadata": {},
     "output_type": "execute_result"
    }
   ],
   "source": [
    "array.shape, array.mean()"
   ]
  },
  {
   "cell_type": "code",
   "execution_count": 62,
   "metadata": {
    "ExecuteTime": {
     "end_time": "2020-11-24T20:02:43.797637Z",
     "start_time": "2020-11-24T20:02:43.733048Z"
    }
   },
   "outputs": [
    {
     "data": {
      "text/plain": [
       "(1, 1, 21, 21)"
      ]
     },
     "execution_count": 62,
     "metadata": {},
     "output_type": "execute_result"
    }
   ],
   "source": [
    "scene_stack = array.reshape((1,1,array.shape[1], array.shape[2])) \n",
    "scene_stack.shape"
   ]
  },
  {
   "cell_type": "code",
   "execution_count": 59,
   "metadata": {
    "ExecuteTime": {
     "end_time": "2020-11-24T20:01:45.335784Z",
     "start_time": "2020-11-24T20:01:44.501818Z"
    }
   },
   "outputs": [
    {
     "data": {
      "image/png": "[encoded data removed]",
      "text/plain": [
       "<Figure size 360x360 with 1 Axes>"
      ]
     },
     "metadata": {
      "needs_background": "light"
     },
     "output_type": "display_data"
    }
   ],
   "source": [
    "dl.scenes.display(array, size=5)"
   ]
  }
 ],
 "metadata": {
  "kernelspec": {
   "display_name": "Python 3",
   "language": "python",
   "name": "python3"
  },
  "language_info": {
   "codemirror_mode": {
    "name": "ipython",
    "version": 3
   },
   "file_extension": ".py",
   "mimetype": "text/x-python",
   "name": "python",
   "nbconvert_exporter": "python",
   "pygments_lexer": "ipython3",
   "version": "3.8.5"
  }
 },
 "nbformat": 4,
 "nbformat_minor": 4
}
