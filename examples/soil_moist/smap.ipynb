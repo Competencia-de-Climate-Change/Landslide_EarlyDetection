{
 "cells": [
  {
   "cell_type": "code",
   "execution_count": 1,
   "metadata": {},
   "outputs": [],
   "source": [
    "%load_ext autoreload\n",
    "%autoreload 2"
   ]
  },
  {
   "cell_type": "code",
   "execution_count": 2,
   "metadata": {},
   "outputs": [
    {
     "data": {
      "text/plain": [
       "['/home/jovyan/Landslide_EarlyDetection/examples/soil_moist',\n",
       " '/opt/conda/lib/python37.zip',\n",
       " '/opt/conda/lib/python3.7',\n",
       " '/opt/conda/lib/python3.7/lib-dynload',\n",
       " '',\n",
       " '/opt/conda/lib/python3.7/site-packages',\n",
       " '/opt/conda/lib/python3.7/site-packages/descarteslabs_viewer-0.0.1-py3.7.egg',\n",
       " '/opt/conda/lib/python3.7/site-packages/ipython_genutils-0.2.0-py3.7.egg',\n",
       " '/opt/conda/lib/python3.7/site-packages/IPython/extensions',\n",
       " '/home/jovyan/.ipython',\n",
       " '../../']"
      ]
     },
     "execution_count": 2,
     "metadata": {},
     "output_type": "execute_result"
    }
   ],
   "source": [
    "import sys\n",
    "sys.path.append('../../')\n",
    "sys.path"
   ]
  },
  {
   "cell_type": "code",
   "execution_count": 3,
   "metadata": {},
   "outputs": [],
   "source": [
    "# ! pip install -r requirements.txt"
   ]
  },
  {
   "cell_type": "code",
   "execution_count": 4,
   "metadata": {},
   "outputs": [],
   "source": [
    "from pprint import pprint\n",
    "import numpy as np\n",
    "import descarteslabs as dl\n",
    "\n",
    "from src.ReMasFrame import ReMasFrame"
   ]
  },
  {
   "cell_type": "code",
   "execution_count": 5,
   "metadata": {},
   "outputs": [
    {
     "name": "stderr",
     "output_type": "stream",
     "text": [
      "/opt/conda/lib/python3.7/site-packages/google/auth/_default.py:69: UserWarning: Your application has authenticated using end user credentials from Google Cloud SDK without a quota project. You might receive a \"quota exceeded\" or \"API not enabled\" error. We recommend you rerun `gcloud auth application-default login` and make sure a quota project is added. Or you can use service accounts instead. For more information about service accounts, see https://cloud.google.com/docs/authentication/\n",
      "  warnings.warn(_CLOUD_SDK_CREDENTIALS_WARNING)\n"
     ]
    },
    {
     "data": {
      "text/plain": [
       "location_description        Ayu, Ozgon, Osh, Kyrgyzstan\n",
       "landslide_size                                    large\n",
       "event_date                                   2017-04-29\n",
       "landslide_category                  translational_slide\n",
       "landslide_trigger                              downpour\n",
       "fatality_count                                       24\n",
       "injury_count                                        NaN\n",
       "longitude                                       73.4724\n",
       "latitude                                        40.8864\n",
       "geometry                POINT (73.47237853 40.88639497)\n",
       "Name: 11031, dtype: object"
      ]
     },
     "execution_count": 5,
     "metadata": {},
     "output_type": "execute_result"
    }
   ],
   "source": [
    "# buffer_size\n",
    "BS = 0.1\n",
    "\n",
    "nasa_df = ReMasFrame()\n",
    "\n",
    "# Choose an idx --> a landslide (or filter the geodataframe :D)\n",
    "idx_test = 11031\n",
    "\n",
    "# changes Point to Polygon\n",
    "# nasa_df_polygon = nasa_df.create_box(8000000)\n",
    "\n",
    "# Returns products that we use as a dict\n",
    "products = nasa_df.get_products()\n",
    "\n",
    "nasa_df.loc[idx_test, :]"
   ]
  },
  {
   "cell_type": "markdown",
   "metadata": {},
   "source": [
    "## Obtención del producto"
   ]
  },
  {
   "cell_type": "code",
   "execution_count": 6,
   "metadata": {},
   "outputs": [
    {
     "data": {
      "text/plain": [
       "dict_keys(['weather', 'soil_moist', 'elevation', 'population'])"
      ]
     },
     "execution_count": 6,
     "metadata": {},
     "output_type": "execute_result"
    }
   ],
   "source": [
    "# Lista de categorias\n",
    "products.keys()"
   ]
  },
  {
   "cell_type": "code",
   "execution_count": 7,
   "metadata": {},
   "outputs": [
    {
     "data": {
      "text/plain": [
       "dict_keys(['smap'])"
      ]
     },
     "execution_count": 7,
     "metadata": {},
     "output_type": "execute_result"
    }
   ],
   "source": [
    "# Elegir una categoria\n",
    "cat = products[\"soil_moist\"]\n",
    "# Mostrar productos\n",
    "cat.keys()"
   ]
  },
  {
   "cell_type": "code",
   "execution_count": 8,
   "metadata": {},
   "outputs": [
    {
     "data": {
      "text/plain": [
       "{'id': 'smap:SMPL3SM_E',\n",
       " 'res': '9km',\n",
       " 'freq': 'daily',\n",
       " 'bands': ['am_soil_moisture', 'pm_soil_moisture']}"
      ]
     },
     "execution_count": 8,
     "metadata": {},
     "output_type": "execute_result"
    }
   ],
   "source": [
    "# Elegir producto\n",
    "prod = cat[\"smap\"]\n",
    "prod"
   ]
  },
  {
   "cell_type": "code",
   "execution_count": 9,
   "metadata": {},
   "outputs": [],
   "source": [
    "def get_scenes(product, res, buffer_size=BS):\n",
    "    # Returns start and end date of a 4 day interval\n",
    "    start_date, end_date = nasa_df.date_interval(nasa_df.event_date[idx_test], delta=10)\n",
    "    \n",
    "    scenes, ctx = ReMasFrame.search_scenes(\n",
    "        nasa_df['geometry'][idx_test].buffer(buffer_size).envelope, \n",
    "        product['id'], \n",
    "        start_date=start_date, \n",
    "        end_date=end_date, \n",
    "        limit=20\n",
    "    )\n",
    "    \n",
    "    new_ctx = ctx.assign(resolution=res)\n",
    "    \n",
    "    return scenes, new_ctx, start_date, end_date\n",
    "\n",
    "def get_composite(product, res, buffer_size=BS, bands=None):\n",
    "    \n",
    "    scenes, new_ctx, _, _ = get_scenes(product, buffer_size, res)\n",
    "    \n",
    "    bands = product[\"bands\"] if bands is None else bands\n",
    "    \n",
    "    if not scenes:\n",
    "        raise IndexError(\"El conjunto de escenas está vacía.\")\n",
    "        \n",
    "    arr_stack = scenes.stack(bands, new_ctx)\n",
    "    composite = np.ma.median(arr_stack, axis=0)\n",
    "        \n",
    "    \n",
    "    return (scenes, new_ctx), composite\n"
   ]
  },
  {
   "cell_type": "code",
   "execution_count": 10,
   "metadata": {},
   "outputs": [
    {
     "data": {
      "text/plain": [
       "(['am_soil_moisture', 'pm_soil_moisture'], 2)"
      ]
     },
     "execution_count": 10,
     "metadata": {},
     "output_type": "execute_result"
    }
   ],
   "source": [
    "# Mostrar las bandas\n",
    "prod[\"bands\"], len(prod[\"bands\"])"
   ]
  },
  {
   "cell_type": "code",
   "execution_count": 11,
   "metadata": {},
   "outputs": [
    {
     "data": {
      "text/plain": [
       "(SceneCollection of 20 scenes\n",
       "   * Dates: Apr 19, 2017 to May 08, 2017\n",
       "   * Products: smap:SMPL3SM_E: 20,\n",
       " AOI(geometry=<shapely.geom...x7f71cf06eed0>,\n",
       "     resolution=0.1,\n",
       "     crs='+proj=longla...S84 +no_defs ',\n",
       "     align_pixels=True,\n",
       "     bounds=(73.37237853, 40.786394969999996, 73.57237853, 40.98639497),\n",
       "     bounds_crs='EPSG:4326',\n",
       "     shape=None))"
      ]
     },
     "execution_count": 11,
     "metadata": {},
     "output_type": "execute_result"
    }
   ],
   "source": [
    "scenes, ctx, ini, end = get_scenes(\n",
    "    prod, \n",
    "    buffer_size=BS, #  10kmx10km\n",
    "    res=0.1         # 0.2 deg x pix approx 20km x pix which is resolution of the sensor\n",
    ")\n",
    "\n",
    "scenes, ctx"
   ]
  },
  {
   "cell_type": "code",
   "execution_count": 12,
   "metadata": {},
   "outputs": [
    {
     "data": {
      "text/plain": [
       "(20, 2, 3, 3)"
      ]
     },
     "execution_count": 12,
     "metadata": {},
     "output_type": "execute_result"
    }
   ],
   "source": [
    "scene_stack = scenes.stack(prod['bands'], ctx)\n",
    "scene_stack.shape"
   ]
  },
  {
   "cell_type": "markdown",
   "metadata": {},
   "source": [
    "La tupla significa (cantidad de imagenes, las bandas, tamaño de la imagen, tamaño de la imagen)"
   ]
  },
  {
   "cell_type": "code",
   "execution_count": null,
   "metadata": {},
   "outputs": [],
   "source": []
  },
  {
   "cell_type": "code",
   "execution_count": 14,
   "metadata": {},
   "outputs": [
    {
     "data": {
      "image/png": "[encoded data removed]",
      "text/plain": [
       "<Figure size 360x360 with 1 Axes>"
      ]
     },
     "metadata": {
      "needs_background": "light"
     },
     "output_type": "display_data"
    },
    {
     "data": {
      "image/png": "[encoded data removed]",
      "text/plain": [
       "<Figure size 360x360 with 1 Axes>"
      ]
     },
     "metadata": {
      "needs_background": "light"
     },
     "output_type": "display_data"
    },
    {
     "data": {
      "image/png": "[encoded data removed]",
      "text/plain": [
       "<Figure size 360x360 with 1 Axes>"
      ]
     },
     "metadata": {
      "needs_background": "light"
     },
     "output_type": "display_data"
    },
    {
     "data": {
      "image/png": "[encoded data removed]",
      "text/plain": [
       "<Figure size 360x360 with 1 Axes>"
      ]
     },
     "metadata": {
      "needs_background": "light"
     },
     "output_type": "display_data"
    },
    {
     "data": {
      "image/png": "[encoded data removed]",
      "text/plain": [
       "<Figure size 360x360 with 1 Axes>"
      ]
     },
     "metadata": {
      "needs_background": "light"
     },
     "output_type": "display_data"
    }
   ],
   "source": [
    "for scene in scenes[0:5]:\n",
    "    arr = scene.ndarray(bands=prod[\"bands\"][1],\n",
    "                        ctx=ctx)\n",
    "    \n",
    "    dl.scenes.display(arr, size=5)"
   ]
  },
  {
   "cell_type": "code",
   "execution_count": null,
   "metadata": {},
   "outputs": [],
   "source": []
  }
 ],
 "metadata": {
  "kernelspec": {
   "display_name": "Python 3",
   "language": "python",
   "name": "python3"
  },
  "language_info": {
   "codemirror_mode": {
    "name": "ipython",
    "version": 3
   },
   "file_extension": ".py",
   "mimetype": "text/x-python",
   "name": "python",
   "nbconvert_exporter": "python",
   "pygments_lexer": "ipython3",
   "version": "3.7.8"
  }
 },
 "nbformat": 4,
 "nbformat_minor": 4
}
