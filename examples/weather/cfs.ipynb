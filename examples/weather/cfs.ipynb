{
 "cells": [
  {
   "cell_type": "code",
   "execution_count": 1,
   "metadata": {
    "ExecuteTime": {
     "end_time": "2020-11-23T05:29:02.288771Z",
     "start_time": "2020-11-23T05:29:02.206351Z"
    }
   },
   "outputs": [],
   "source": [
    "%load_ext autoreload\n",
    "%autoreload 2"
   ]
  },
  {
   "cell_type": "code",
   "execution_count": 2,
   "metadata": {
    "ExecuteTime": {
     "end_time": "2020-11-23T05:29:26.012113Z",
     "start_time": "2020-11-23T05:29:02.308036Z"
    }
   },
   "outputs": [
    {
     "name": "stderr",
     "output_type": "stream",
     "text": [
      "/home/step/miniconda3/envs/projectx/lib/python3.8/site-packages/google/auth/_default.py:69: UserWarning: Your application has authenticated using end user credentials from Google Cloud SDK without a quota project. You might receive a \"quota exceeded\" or \"API not enabled\" error. We recommend you rerun `gcloud auth application-default login` and make sure a quota project is added. Or you can use service accounts instead. For more information about service accounts, see https://cloud.google.com/docs/authentication/\n",
      "  warnings.warn(_CLOUD_SDK_CREDENTIALS_WARNING)\n"
     ]
    },
    {
     "data": {
      "text/plain": [
       "location_description        Ayu, Ozgon, Osh, Kyrgyzstan\n",
       "landslide_size                                    large\n",
       "event_date                                   2017-04-29\n",
       "landslide_category                  translational_slide\n",
       "landslide_trigger                              downpour\n",
       "fatality_count                                       24\n",
       "injury_count                                        NaN\n",
       "longitude                                       73.4724\n",
       "latitude                                        40.8864\n",
       "geometry                POINT (73.47237853 40.88639497)\n",
       "Name: 11031, dtype: object"
      ]
     },
     "execution_count": 2,
     "metadata": {},
     "output_type": "execute_result"
    }
   ],
   "source": [
    "import sys\n",
    "sys.path.append('../../')\n",
    "\n",
    "from pprint import pprint\n",
    "import numpy as np\n",
    "import descarteslabs as dl\n",
    "\n",
    "from src.ReMasFrame import *\n",
    "\n",
    "nasa_df = ReMasFrame()\n",
    "\n",
    "# Choose an idx --> a landslide (or filter the geodataframe :D)\n",
    "idx_test = 11031\n",
    "\n",
    "# changes Point to Polygon\n",
    "# nasa_df_polygon = nasa_df.create_box(8000000)\n",
    "\n",
    "# Returns products that we use as a dict\n",
    "products = nasa_df.get_products()\n",
    "\n",
    "nasa_df.loc[idx_test, :]"
   ]
  },
  {
   "cell_type": "code",
   "execution_count": 3,
   "metadata": {
    "ExecuteTime": {
     "end_time": "2020-11-23T05:29:26.116377Z",
     "start_time": "2020-11-23T05:29:26.022401Z"
    }
   },
   "outputs": [
    {
     "name": "stdout",
     "output_type": "stream",
     "text": [
      "{'bands': ['albedo',\n",
      "           'prec',\n",
      "           'snow_cover',\n",
      "           'snow_depth',\n",
      "           'snow_water_equivalent',\n",
      "           'soilmoist1',\n",
      "           'soilmoist2',\n",
      "           'soilmoist3',\n",
      "           'tavg',\n",
      "           'tmax',\n",
      "           'tmin',\n",
      "           'water_runoff'],\n",
      " 'freq': 'daily',\n",
      " 'id': 'ncep:cfsr-v2:daily:v1',\n",
      " 'name': 'CFS Daily Weather',\n",
      " 'res': '20km'}\n"
     ]
    }
   ],
   "source": [
    "pprint(products['weather']['cfs'])"
   ]
  },
  {
   "cell_type": "code",
   "execution_count": 8,
   "metadata": {
    "ExecuteTime": {
     "end_time": "2020-11-23T05:29:48.853475Z",
     "start_time": "2020-11-23T05:29:48.780638Z"
    }
   },
   "outputs": [],
   "source": [
    "def get_scenes(product, buffer_size, res):\n",
    "    # Returns start and end date of a 4 day interval\n",
    "    start_date, end_date = nasa_df.date_interval(nasa_df.event_date[idx_test], delta_minus=10)\n",
    "    \n",
    "    scenes, ctx = ReMasFrame.search_scenes(\n",
    "        nasa_df['geometry'][idx_test].buffer(buffer_size).envelope, \n",
    "        product['id'], \n",
    "        start_date=start_date, \n",
    "        end_date=end_date, \n",
    "        limit=20\n",
    "    )\n",
    "    \n",
    "    new_ctx = ctx.assign(resolution=res)\n",
    "    \n",
    "    return scenes, new_ctx, start_date, end_date\n",
    "\n",
    "def get_composite(product, buffer_size, res):\n",
    "    \n",
    "    scenes, new_ctx = get_scenes(product, buffer_size, res)\n",
    "    \n",
    "    arr_stack = scenes.stack(product['bands'], new_ctx)\n",
    "    composite = np.ma.median(arr_stack, axis=0)\n",
    "    \n",
    "    return (scenes, new_ctx), composite"
   ]
  },
  {
   "cell_type": "code",
   "execution_count": 13,
   "metadata": {
    "ExecuteTime": {
     "end_time": "2020-11-23T05:30:08.084363Z",
     "start_time": "2020-11-23T05:30:08.001175Z"
    }
   },
   "outputs": [
    {
     "data": {
      "text/plain": [
       "(['albedo',\n",
       "  'prec',\n",
       "  'snow_cover',\n",
       "  'snow_depth',\n",
       "  'snow_water_equivalent',\n",
       "  'soilmoist1',\n",
       "  'soilmoist2',\n",
       "  'soilmoist3',\n",
       "  'tavg',\n",
       "  'tmax',\n",
       "  'tmin',\n",
       "  'water_runoff'],\n",
       " 12)"
      ]
     },
     "execution_count": 13,
     "metadata": {},
     "output_type": "execute_result"
    }
   ],
   "source": [
    "products['weather']['cfs']['bands'], len(products['weather']['cfs']['bands'])"
   ]
  },
  {
   "cell_type": "code",
   "execution_count": 16,
   "metadata": {
    "ExecuteTime": {
     "end_time": "2020-11-23T05:32:51.258068Z",
     "start_time": "2020-11-23T05:32:51.176864Z"
    }
   },
   "outputs": [
    {
     "data": {
      "text/plain": [
       "[5, 6, 7]"
      ]
     },
     "execution_count": 16,
     "metadata": {},
     "output_type": "execute_result"
    }
   ],
   "source": [
    "idx_soil_bands = []\n",
    "for idx, band in enumerate(products['weather']['cfs']['bands']):\n",
    "    if 'soil' in band:\n",
    "        idx_soil_bands.append(idx)\n",
    "idx_soil_bands"
   ]
  },
  {
   "cell_type": "code",
   "execution_count": 60,
   "metadata": {
    "ExecuteTime": {
     "end_time": "2020-11-23T05:47:06.166252Z",
     "start_time": "2020-11-23T05:47:04.013834Z"
    },
    "scrolled": false
   },
   "outputs": [
    {
     "data": {
      "text/plain": [
       "(11, 12, 2, 2)"
      ]
     },
     "execution_count": 60,
     "metadata": {},
     "output_type": "execute_result"
    }
   ],
   "source": [
    "scenes, ctx, ini, end = get_scenes(\n",
    "    products['weather']['cfs'], \n",
    "    buffer_size=0.1, #  10kmx10km\n",
    "    res=0.20         # 0.2 deg x pix approx 20km x pix which is resolution of the sensor\n",
    ")\n",
    "scene_stack = scenes.stack(products['weather']['cfs']['bands'], ctx)\n",
    "scene_stack.shape"
   ]
  },
  {
   "cell_type": "markdown",
   "metadata": {},
   "source": [
    "Create new soil_moist band"
   ]
  },
  {
   "cell_type": "code",
   "execution_count": 61,
   "metadata": {
    "ExecuteTime": {
     "end_time": "2020-11-23T05:47:06.242520Z",
     "start_time": "2020-11-23T05:47:06.174229Z"
    }
   },
   "outputs": [],
   "source": [
    "soil_bands = scene_stack[:, idx_soil_bands, ...]"
   ]
  },
  {
   "cell_type": "code",
   "execution_count": 62,
   "metadata": {
    "ExecuteTime": {
     "end_time": "2020-11-23T05:47:06.336153Z",
     "start_time": "2020-11-23T05:47:06.252256Z"
    },
    "scrolled": true
   },
   "outputs": [
    {
     "data": {
      "text/plain": [
       "(11, 10, 2, 2)"
      ]
     },
     "execution_count": 62,
     "metadata": {},
     "output_type": "execute_result"
    }
   ],
   "source": [
    "old_shape = list(soil_bands.shape)\n",
    "old_shape[1] = 1\n",
    "new_shape = tuple(old_shape)\n",
    "new_soil_moist = np.sum(soil_bands, axis=1).reshape(new_shape)\n",
    "\n",
    "scene_stack = np.concatenate((scene_stack, new_soil_moist), axis=1)\n",
    "\n",
    "new_product = np.delete(scene_stack, idx_soil_bands, axis=1)\n",
    "new_product.shape"
   ]
  },
  {
   "cell_type": "markdown",
   "metadata": {},
   "source": [
    "**Shape is (batch, channels, x, y)**"
   ]
  }
 ],
 "metadata": {
  "kernelspec": {
   "display_name": "Python 3",
   "language": "python",
   "name": "python3"
  },
  "language_info": {
   "codemirror_mode": {
    "name": "ipython",
    "version": 3
   },
   "file_extension": ".py",
   "mimetype": "text/x-python",
   "name": "python",
   "nbconvert_exporter": "python",
   "pygments_lexer": "ipython3",
   "version": "3.8.5"
  }
 },
 "nbformat": 4,
 "nbformat_minor": 4
}
