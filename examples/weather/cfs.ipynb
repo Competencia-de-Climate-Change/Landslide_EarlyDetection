{
 "cells": [
  {
   "cell_type": "code",
   "execution_count": 5,
   "metadata": {
    "ExecuteTime": {
     "end_time": "2020-11-24T18:04:04.128662Z",
     "start_time": "2020-11-24T18:03:40.123541Z"
    }
   },
   "outputs": [
    {
     "name": "stderr",
     "output_type": "stream",
     "text": [
      "/home/step/miniconda3/envs/projectx/lib/python3.8/site-packages/google/auth/_default.py:69: UserWarning: Your application has authenticated using end user credentials from Google Cloud SDK without a quota project. You might receive a \"quota exceeded\" or \"API not enabled\" error. We recommend you rerun `gcloud auth application-default login` and make sure a quota project is added. Or you can use service accounts instead. For more information about service accounts, see https://cloud.google.com/docs/authentication/\n",
      "  warnings.warn(_CLOUD_SDK_CREDENTIALS_WARNING)\n"
     ]
    },
    {
     "data": {
      "text/plain": [
       "location_description        Ayu, Ozgon, Osh, Kyrgyzstan\n",
       "landslide_size                                    large\n",
       "event_date                                   2017-04-29\n",
       "landslide_category                  translational_slide\n",
       "landslide_trigger                              downpour\n",
       "fatality_count                                       24\n",
       "injury_count                                        NaN\n",
       "longitude                                       73.4724\n",
       "latitude                                        40.8864\n",
       "geometry                POINT (73.47237853 40.88639497)\n",
       "Name: 11031, dtype: object"
      ]
     },
     "execution_count": 5,
     "metadata": {},
     "output_type": "execute_result"
    }
   ],
   "source": [
    "%load_ext autoreload\n",
    "%autoreload 2\n",
    "\n",
    "import sys\n",
    "sys.path.append('../../')\n",
    "\n",
    "from pprint import pprint\n",
    "import numpy as np\n",
    "import descarteslabs as dl\n",
    "\n",
    "from src.ReMasFrame import *\n",
    "\n",
    "nasa_df = ReMasFrame()\n",
    "\n",
    "# Choose an idx --> a landslide (or filter the geodataframe :D)\n",
    "idx_test = 11031\n",
    "\n",
    "# changes Point to Polygon\n",
    "# nasa_df_polygon = nasa_df.create_box(8000000)\n",
    "\n",
    "# Returns products that we use as a dict\n",
    "products = nasa_df.get_products()\n",
    "\n",
    "nasa_df.loc[idx_test, :]"
   ]
  },
  {
   "cell_type": "code",
   "execution_count": 6,
   "metadata": {
    "ExecuteTime": {
     "end_time": "2020-11-24T18:04:04.242110Z",
     "start_time": "2020-11-24T18:04:04.137511Z"
    }
   },
   "outputs": [
    {
     "name": "stdout",
     "output_type": "stream",
     "text": [
      "{'bands': ['albedo',\n",
      "           'prec',\n",
      "           'snow_cover',\n",
      "           'snow_depth',\n",
      "           'snow_water_equivalent',\n",
      "           'soilmoist1',\n",
      "           'soilmoist2',\n",
      "           'soilmoist3',\n",
      "           'tavg',\n",
      "           'tmax',\n",
      "           'tmin',\n",
      "           'water_runoff'],\n",
      " 'freq': 'daily',\n",
      " 'id': 'ncep:cfsr-v2:daily:v1',\n",
      " 'name': 'CFS Daily Weather',\n",
      " 'res': '20km'}\n"
     ]
    }
   ],
   "source": [
    "pprint(products['weather']['cfs'])"
   ]
  },
  {
   "cell_type": "code",
   "execution_count": 7,
   "metadata": {
    "ExecuteTime": {
     "end_time": "2020-11-24T18:04:04.327195Z",
     "start_time": "2020-11-24T18:04:04.249493Z"
    }
   },
   "outputs": [],
   "source": [
    "def get_scenes(product, buffer_size, res):\n",
    "    # Returns start and end date of a 4 day interval\n",
    "    start_date, end_date = nasa_df.date_interval(nasa_df.event_date[idx_test], delta_minus=10)\n",
    "    \n",
    "    scenes, ctx = ReMasFrame.search_scenes(\n",
    "        nasa_df['geometry'][idx_test].buffer(buffer_size).envelope, \n",
    "        product['id'], \n",
    "        start_date=start_date, \n",
    "        end_date=end_date, \n",
    "        limit=20\n",
    "    )\n",
    "    \n",
    "    new_ctx = ctx.assign(resolution=res)\n",
    "    \n",
    "    return scenes, new_ctx, start_date, end_date\n",
    "\n",
    "def get_composite(product, buffer_size, res):\n",
    "    \n",
    "    scenes, new_ctx = get_scenes(product, buffer_size, res)\n",
    "    \n",
    "    arr_stack = scenes.stack(product['bands'], new_ctx)\n",
    "    composite = np.ma.median(arr_stack, axis=0)\n",
    "    \n",
    "    return (scenes, new_ctx), composite"
   ]
  },
  {
   "cell_type": "code",
   "execution_count": 8,
   "metadata": {
    "ExecuteTime": {
     "end_time": "2020-11-24T18:04:04.392581Z",
     "start_time": "2020-11-24T18:04:04.334439Z"
    }
   },
   "outputs": [
    {
     "data": {
      "text/plain": [
       "(['albedo',\n",
       "  'prec',\n",
       "  'snow_cover',\n",
       "  'snow_depth',\n",
       "  'snow_water_equivalent',\n",
       "  'soilmoist1',\n",
       "  'soilmoist2',\n",
       "  'soilmoist3',\n",
       "  'tavg',\n",
       "  'tmax',\n",
       "  'tmin',\n",
       "  'water_runoff'],\n",
       " 12)"
      ]
     },
     "execution_count": 8,
     "metadata": {},
     "output_type": "execute_result"
    }
   ],
   "source": [
    "products['weather']['cfs']['bands'], len(products['weather']['cfs']['bands'])"
   ]
  },
  {
   "cell_type": "code",
   "execution_count": 9,
   "metadata": {
    "ExecuteTime": {
     "end_time": "2020-11-24T18:04:04.457894Z",
     "start_time": "2020-11-24T18:04:04.398346Z"
    }
   },
   "outputs": [
    {
     "data": {
      "text/plain": [
       "[5, 6, 7]"
      ]
     },
     "execution_count": 9,
     "metadata": {},
     "output_type": "execute_result"
    }
   ],
   "source": [
    "idx_soil_bands = []\n",
    "for idx, band in enumerate(products['weather']['cfs']['bands']):\n",
    "    if 'soil' in band:\n",
    "        idx_soil_bands.append(idx)\n",
    "idx_soil_bands"
   ]
  },
  {
   "cell_type": "code",
   "execution_count": 10,
   "metadata": {
    "ExecuteTime": {
     "end_time": "2020-11-24T18:04:09.309787Z",
     "start_time": "2020-11-24T18:04:04.464310Z"
    },
    "scrolled": false
   },
   "outputs": [
    {
     "data": {
      "text/plain": [
       "(11, 12, 2, 2)"
      ]
     },
     "execution_count": 10,
     "metadata": {},
     "output_type": "execute_result"
    }
   ],
   "source": [
    "scenes, ctx, ini, end = get_scenes(\n",
    "    products['weather']['cfs'], \n",
    "    buffer_size=0.1, #  10kmx10km\n",
    "    res=0.20         # 0.2 deg x pix approx 20km x pix which is resolution of the sensor\n",
    ")\n",
    "scene_stack = scenes.stack(products['weather']['cfs']['bands'], ctx)\n",
    "scene_stack.shape"
   ]
  },
  {
   "cell_type": "markdown",
   "metadata": {},
   "source": [
    "Create new soil_moist band"
   ]
  },
  {
   "cell_type": "code",
   "execution_count": 11,
   "metadata": {
    "ExecuteTime": {
     "end_time": "2020-11-24T18:04:09.364337Z",
     "start_time": "2020-11-24T18:04:09.315849Z"
    }
   },
   "outputs": [],
   "source": [
    "soil_bands = scene_stack[:, idx_soil_bands, ...]"
   ]
  },
  {
   "cell_type": "code",
   "execution_count": 12,
   "metadata": {
    "ExecuteTime": {
     "end_time": "2020-11-24T18:04:09.474782Z",
     "start_time": "2020-11-24T18:04:09.375878Z"
    },
    "scrolled": true
   },
   "outputs": [
    {
     "data": {
      "text/plain": [
       "(11, 10, 2, 2)"
      ]
     },
     "execution_count": 12,
     "metadata": {},
     "output_type": "execute_result"
    }
   ],
   "source": [
    "old_shape = list(soil_bands.shape)\n",
    "old_shape[1] = 1\n",
    "new_shape = tuple(old_shape)\n",
    "new_soil_moist = np.sum(soil_bands, axis=1).reshape(new_shape)\n",
    "\n",
    "scene_stack = np.concatenate((scene_stack, new_soil_moist), axis=1)\n",
    "\n",
    "new_product = np.delete(scene_stack, idx_soil_bands, axis=1)\n",
    "new_product.shape"
   ]
  },
  {
   "cell_type": "markdown",
   "metadata": {},
   "source": [
    "**Shape is (batch, channels, x, y)**"
   ]
  },
  {
   "cell_type": "code",
   "execution_count": 13,
   "metadata": {
    "ExecuteTime": {
     "end_time": "2020-11-24T18:04:09.606622Z",
     "start_time": "2020-11-24T18:04:09.482689Z"
    },
    "scrolled": false
   },
   "outputs": [
    {
     "data": {
      "text/plain": [
       "masked_array(\n",
       "  data=[[[[65535,  1799],\n",
       "          [65535, 65535]],\n",
       "\n",
       "         [[65535,    16],\n",
       "          [65535, 65535]],\n",
       "\n",
       "         [[65535,   515],\n",
       "          [65535, 65535]],\n",
       "\n",
       "         [[65535,     2],\n",
       "          [65535, 65535]],\n",
       "\n",
       "         [[65535,     2],\n",
       "          [65535, 65535]],\n",
       "\n",
       "         [[65535, 28352],\n",
       "          [65535, 65535]],\n",
       "\n",
       "         [[65535, 28783],\n",
       "          [65535, 65535]],\n",
       "\n",
       "         [[65535, 27997],\n",
       "          [65535, 65535]],\n",
       "\n",
       "         [[65535,   233],\n",
       "          [65535, 65535]],\n",
       "\n",
       "         [[    0, 10954],\n",
       "          [    0,     0]]],\n",
       "\n",
       "\n",
       "        [[[65535,  1711],\n",
       "          [65535, 65535]],\n",
       "\n",
       "         [[65535,     7],\n",
       "          [65535, 65535]],\n",
       "\n",
       "         [[65535,   335],\n",
       "          [65535, 65535]],\n",
       "\n",
       "         [[65535,     0],\n",
       "          [65535, 65535]],\n",
       "\n",
       "         [[65535,     1],\n",
       "          [65535, 65535]],\n",
       "\n",
       "         [[65535, 28636],\n",
       "          [65535, 65535]],\n",
       "\n",
       "         [[65535, 29160],\n",
       "          [65535, 65535]],\n",
       "\n",
       "         [[65535, 27962],\n",
       "          [65535, 65535]],\n",
       "\n",
       "         [[65535,   227],\n",
       "          [65535, 65535]],\n",
       "\n",
       "         [[    0, 10810],\n",
       "          [    0,     0]]],\n",
       "\n",
       "\n",
       "        [[[65535,  1764],\n",
       "          [65535, 65535]],\n",
       "\n",
       "         [[65535,    59],\n",
       "          [65535, 65535]],\n",
       "\n",
       "         [[65535,   545],\n",
       "          [65535, 65535]],\n",
       "\n",
       "         [[65535,     2],\n",
       "          [65535, 65535]],\n",
       "\n",
       "         [[65535,     2],\n",
       "          [65535, 65535]],\n",
       "\n",
       "         [[65535, 28174],\n",
       "          [65535, 65535]],\n",
       "\n",
       "         [[65535, 28492],\n",
       "          [65535, 65535]],\n",
       "\n",
       "         [[65535, 27917],\n",
       "          [65535, 65535]],\n",
       "\n",
       "         [[65535,   255],\n",
       "          [65535, 65535]],\n",
       "\n",
       "         [[    0, 10961],\n",
       "          [    0,     0]]],\n",
       "\n",
       "\n",
       "        [[[65535,  1678],\n",
       "          [65535, 65535]],\n",
       "\n",
       "         [[65535,    24],\n",
       "          [65535, 65535]],\n",
       "\n",
       "         [[65535,   769],\n",
       "          [65535, 65535]],\n",
       "\n",
       "         [[65535,     3],\n",
       "          [65535, 65535]],\n",
       "\n",
       "         [[65535,     4],\n",
       "          [65535, 65535]],\n",
       "\n",
       "         [[65535, 27919],\n",
       "          [65535, 65535]],\n",
       "\n",
       "         [[65535, 28148],\n",
       "          [65535, 65535]],\n",
       "\n",
       "         [[65535, 27611],\n",
       "          [65535, 65535]],\n",
       "\n",
       "         [[65535,   191],\n",
       "          [65535, 65535]],\n",
       "\n",
       "         [[    0, 10870],\n",
       "          [    0,     0]]],\n",
       "\n",
       "\n",
       "        [[[65535,  1768],\n",
       "          [65535, 65535]],\n",
       "\n",
       "         [[65535,     0],\n",
       "          [65535, 65535]],\n",
       "\n",
       "         [[65535,   361],\n",
       "          [65535, 65535]],\n",
       "\n",
       "         [[65535,     1],\n",
       "          [65535, 65535]],\n",
       "\n",
       "         [[65535,     1],\n",
       "          [65535, 65535]],\n",
       "\n",
       "         [[65535, 28251],\n",
       "          [65535, 65535]],\n",
       "\n",
       "         [[65535, 28696],\n",
       "          [65535, 65535]],\n",
       "\n",
       "         [[65535, 27552],\n",
       "          [65535, 65535]],\n",
       "\n",
       "         [[65535,   200],\n",
       "          [65535, 65535]],\n",
       "\n",
       "         [[    0, 10796],\n",
       "          [    0,     0]]],\n",
       "\n",
       "\n",
       "        [[[65535,  1778],\n",
       "          [65535, 65535]],\n",
       "\n",
       "         [[65535,     0],\n",
       "          [65535, 65535]],\n",
       "\n",
       "         [[65535,   364],\n",
       "          [65535, 65535]],\n",
       "\n",
       "         [[65535,     1],\n",
       "          [65535, 65535]],\n",
       "\n",
       "         [[65535,     1],\n",
       "          [65535, 65535]],\n",
       "\n",
       "         [[65535, 28576],\n",
       "          [65535, 65535]],\n",
       "\n",
       "         [[65535, 29104],\n",
       "          [65535, 65535]],\n",
       "\n",
       "         [[65535, 27920],\n",
       "          [65535, 65535]],\n",
       "\n",
       "         [[65535,   190],\n",
       "          [65535, 65535]],\n",
       "\n",
       "         [[    0, 10687],\n",
       "          [    0,     0]]],\n",
       "\n",
       "\n",
       "        [[[65535,  1645],\n",
       "          [65535, 65535]],\n",
       "\n",
       "         [[65535,     0],\n",
       "          [65535, 65535]],\n",
       "\n",
       "         [[65535,     0],\n",
       "          [65535, 65535]],\n",
       "\n",
       "         [[65535,     0],\n",
       "          [65535, 65535]],\n",
       "\n",
       "         [[65535,     0],\n",
       "          [65535, 65535]],\n",
       "\n",
       "         [[65535, 28820],\n",
       "          [65535, 65535]],\n",
       "\n",
       "         [[65535, 29476],\n",
       "          [65535, 65535]],\n",
       "\n",
       "         [[65535, 28152],\n",
       "          [65535, 65535]],\n",
       "\n",
       "         [[65535,   162],\n",
       "          [65535, 65535]],\n",
       "\n",
       "         [[    0, 10494],\n",
       "          [    0,     0]]],\n",
       "\n",
       "\n",
       "        [[[65535,  1642],\n",
       "          [65535, 65535]],\n",
       "\n",
       "         [[65535,     0],\n",
       "          [65535, 65535]],\n",
       "\n",
       "         [[65535,     0],\n",
       "          [65535, 65535]],\n",
       "\n",
       "         [[65535,     0],\n",
       "          [65535, 65535]],\n",
       "\n",
       "         [[65535,     0],\n",
       "          [65535, 65535]],\n",
       "\n",
       "         [[65535, 28687],\n",
       "          [65535, 65535]],\n",
       "\n",
       "         [[65535, 29317],\n",
       "          [65535, 65535]],\n",
       "\n",
       "         [[65535, 28119],\n",
       "          [65535, 65535]],\n",
       "\n",
       "         [[65535,   148],\n",
       "          [65535, 65535]],\n",
       "\n",
       "         [[    0, 10365],\n",
       "          [    0,     0]]],\n",
       "\n",
       "\n",
       "        [[[65535,  1559],\n",
       "          [65535, 65535]],\n",
       "\n",
       "         [[65535,    89],\n",
       "          [65535, 65535]],\n",
       "\n",
       "         [[65535,     0],\n",
       "          [65535, 65535]],\n",
       "\n",
       "         [[65535,     0],\n",
       "          [65535, 65535]],\n",
       "\n",
       "         [[65535,     0],\n",
       "          [65535, 65535]],\n",
       "\n",
       "         [[65535, 28303],\n",
       "          [65535, 65535]],\n",
       "\n",
       "         [[65535, 28858],\n",
       "          [65535, 65535]],\n",
       "\n",
       "         [[65535, 27781],\n",
       "          [65535, 65535]],\n",
       "\n",
       "         [[65535,   170],\n",
       "          [65535, 65535]],\n",
       "\n",
       "         [[    0, 10562],\n",
       "          [    0,     0]]],\n",
       "\n",
       "\n",
       "        [[[65535,  1738],\n",
       "          [65535, 65535]],\n",
       "\n",
       "         [[65535,    29],\n",
       "          [65535, 65535]],\n",
       "\n",
       "         [[65535,   444],\n",
       "          [65535, 65535]],\n",
       "\n",
       "         [[65535,     1],\n",
       "          [65535, 65535]],\n",
       "\n",
       "         [[65535,     2],\n",
       "          [65535, 65535]],\n",
       "\n",
       "         [[65535, 27546],\n",
       "          [65535, 65535]],\n",
       "\n",
       "         [[65535, 27859],\n",
       "          [65535, 65535]],\n",
       "\n",
       "         [[65535, 27292],\n",
       "          [65535, 65535]],\n",
       "\n",
       "         [[65535,   137],\n",
       "          [65535, 65535]],\n",
       "\n",
       "         [[    0, 10674],\n",
       "          [    0,     0]]],\n",
       "\n",
       "\n",
       "        [[[65535,  1623],\n",
       "          [65535, 65535]],\n",
       "\n",
       "         [[65535,     5],\n",
       "          [65535, 65535]],\n",
       "\n",
       "         [[65535,    20],\n",
       "          [65535, 65535]],\n",
       "\n",
       "         [[65535,     0],\n",
       "          [65535, 65535]],\n",
       "\n",
       "         [[65535,     0],\n",
       "          [65535, 65535]],\n",
       "\n",
       "         [[65535, 27744],\n",
       "          [65535, 65535]],\n",
       "\n",
       "         [[65535, 28152],\n",
       "          [65535, 65535]],\n",
       "\n",
       "         [[65535, 27355],\n",
       "          [65535, 65535]],\n",
       "\n",
       "         [[65535,   133],\n",
       "          [65535, 65535]],\n",
       "\n",
       "         [[    0, 10472],\n",
       "          [    0,     0]]]],\n",
       "  mask=False,\n",
       "  fill_value=999999,\n",
       "  dtype=uint64)"
      ]
     },
     "execution_count": 13,
     "metadata": {},
     "output_type": "execute_result"
    }
   ],
   "source": [
    "new_product"
   ]
  },
  {
   "cell_type": "code",
   "execution_count": null,
   "metadata": {},
   "outputs": [],
   "source": []
  }
 ],
 "metadata": {
  "kernelspec": {
   "display_name": "Python 3",
   "language": "python",
   "name": "python3"
  },
  "language_info": {
   "codemirror_mode": {
    "name": "ipython",
    "version": 3
   },
   "file_extension": ".py",
   "mimetype": "text/x-python",
   "name": "python",
   "nbconvert_exporter": "python",
   "pygments_lexer": "ipython3",
   "version": "3.8.5"
  }
 },
 "nbformat": 4,
 "nbformat_minor": 4
}
