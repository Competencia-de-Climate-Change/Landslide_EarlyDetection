{
 "cells": [
  {
   "cell_type": "code",
   "execution_count": 1,
   "metadata": {},
   "outputs": [],
   "source": [
    "%load_ext autoreload\n",
    "%autoreload 2"
   ]
  },
  {
   "cell_type": "code",
   "execution_count": 2,
   "metadata": {},
   "outputs": [],
   "source": [
    "import sys\n",
    "sys.path.append('../../')\n",
    "\n",
    "from pprint import pprint\n",
    "import numpy as np\n",
    "import descarteslabs as dl\n",
    "\n",
    "from src.ReMasFrame import *"
   ]
  },
  {
   "cell_type": "code",
   "execution_count": null,
   "metadata": {},
   "outputs": [],
   "source": [
    "nasa_df = ReMasFrame()"
   ]
  },
  {
   "cell_type": "code",
   "execution_count": 6,
   "metadata": {
    "ExecuteTime": {
     "end_time": "2020-11-24T18:04:04.128662Z",
     "start_time": "2020-11-24T18:03:40.123541Z"
    }
   },
   "outputs": [],
   "source": [
    "# Choose an idx --> a landslide (or filter the geodataframe :D)\n",
    "idx_test = 11031\n",
    "\n",
    "# Returns products that we use as a dict\n",
    "products = nasa_df.get_products()\n",
    "\n",
    "nasa_df.loc[idx_test, :]"
   ]
  },
  {
   "cell_type": "code",
   "execution_count": null,
   "metadata": {
    "ExecuteTime": {
     "end_time": "2020-11-24T18:04:04.242110Z",
     "start_time": "2020-11-24T18:04:04.137511Z"
    }
   },
   "outputs": [],
   "source": [
    "pprint(products['weather']['cfs'])"
   ]
  },
  {
   "cell_type": "code",
   "execution_count": null,
   "metadata": {
    "ExecuteTime": {
     "end_time": "2020-11-24T18:04:04.327195Z",
     "start_time": "2020-11-24T18:04:04.249493Z"
    }
   },
   "outputs": [],
   "source": [
    "def get_scenes(product, buffer_size, res):\n",
    "    # Returns start and end date of a 4 day interval\n",
    "    start_date, end_date = nasa_df.date_interval(nasa_df.event_date[idx_test], delta_minus=10)\n",
    "    \n",
    "    scenes, ctx = ReMasFrame.search_scenes(\n",
    "        nasa_df['geometry'][idx_test].buffer(buffer_size).envelope, \n",
    "        product['id'], \n",
    "        start_date=start_date, \n",
    "        end_date=end_date, \n",
    "        limit=20\n",
    "    )\n",
    "    \n",
    "    new_ctx = ctx.assign(resolution=res)\n",
    "    \n",
    "    return scenes, new_ctx, start_date, end_date\n",
    "\n",
    "def get_composite(product, buffer_size, res):\n",
    "    \n",
    "    scenes, new_ctx = get_scenes(product, buffer_size, res)\n",
    "    \n",
    "    arr_stack = scenes.stack(product['bands'], new_ctx)\n",
    "    composite = np.ma.median(arr_stack, axis=0)\n",
    "    \n",
    "    return (scenes, new_ctx), composite"
   ]
  },
  {
   "cell_type": "code",
   "execution_count": null,
   "metadata": {
    "ExecuteTime": {
     "end_time": "2020-11-24T18:04:04.392581Z",
     "start_time": "2020-11-24T18:04:04.334439Z"
    }
   },
   "outputs": [],
   "source": [
    "products['weather']['cfs']['bands'], len(products['weather']['cfs']['bands'])"
   ]
  },
  {
   "cell_type": "code",
   "execution_count": null,
   "metadata": {
    "ExecuteTime": {
     "end_time": "2020-11-24T18:04:04.457894Z",
     "start_time": "2020-11-24T18:04:04.398346Z"
    }
   },
   "outputs": [],
   "source": [
    "idx_soil_bands = []\n",
    "for idx, band in enumerate(products['weather']['cfs']['bands']):\n",
    "    if 'soil' in band:\n",
    "        idx_soil_bands.append(idx)\n",
    "idx_soil_bands"
   ]
  },
  {
   "cell_type": "code",
   "execution_count": null,
   "metadata": {
    "ExecuteTime": {
     "end_time": "2020-11-24T18:04:09.309787Z",
     "start_time": "2020-11-24T18:04:04.464310Z"
    },
    "scrolled": false
   },
   "outputs": [],
   "source": [
    "scenes, ctx, ini, end = get_scenes(\n",
    "    products['weather']['cfs'], \n",
    "    buffer_size=0.1, #  10kmx10km\n",
    "    res=0.20         # 0.2 deg x pix approx 20km x pix which is resolution of the sensor\n",
    ")\n",
    "scene_stack = scenes.stack(products['weather']['cfs']['bands'], ctx)\n",
    "scene_stack.shape"
   ]
  },
  {
   "cell_type": "markdown",
   "metadata": {},
   "source": [
    "Create new soil_moist band"
   ]
  },
  {
   "cell_type": "code",
   "execution_count": null,
   "metadata": {
    "ExecuteTime": {
     "end_time": "2020-11-24T18:04:09.364337Z",
     "start_time": "2020-11-24T18:04:09.315849Z"
    }
   },
   "outputs": [],
   "source": [
    "soil_bands = scene_stack[:, idx_soil_bands, ...]"
   ]
  },
  {
   "cell_type": "code",
   "execution_count": 12,
   "metadata": {
    "ExecuteTime": {
     "end_time": "2020-11-24T18:04:09.474782Z",
     "start_time": "2020-11-24T18:04:09.375878Z"
    },
    "scrolled": true
   },
   "outputs": [
    {
     "data": {
      "text/plain": [
       "(11, 10, 2, 2)"
      ]
     },
     "execution_count": 12,
     "metadata": {},
     "output_type": "execute_result"
    }
   ],
   "source": [
    "old_shape = list(soil_bands.shape)\n",
    "old_shape[1] = 1\n",
    "new_shape = tuple(old_shape)\n",
    "new_soil_moist = np.sum(soil_bands, axis=1).reshape(new_shape)\n",
    "\n",
    "scene_stack = np.concatenate((scene_stack, new_soil_moist), axis=1)\n",
    "\n",
    "new_product = np.delete(scene_stack, idx_soil_bands, axis=1)\n",
    "new_product.shape"
   ]
  },
  {
   "cell_type": "markdown",
   "metadata": {},
   "source": [
    "**Shape is (batch, channels, x, y)**"
   ]
  },
  {
   "cell_type": "code",
   "execution_count": 1,
   "metadata": {},
   "outputs": [
    {
     "output_type": "error",
     "ename": "ModuleNotFoundError",
     "evalue": "No module named 'src'",
     "traceback": [
      "\u001b[0;31m---------------------------------------------------------------------------\u001b[0m",
      "\u001b[0;31mModuleNotFoundError\u001b[0m                       Traceback (most recent call last)",
      "\u001b[0;32m<ipython-input-1-95da1ed35955>\u001b[0m in \u001b[0;36m<module>\u001b[0;34m\u001b[0m\n\u001b[0;32m----> 1\u001b[0;31m \u001b[0;32mfrom\u001b[0m \u001b[0msrc\u001b[0m\u001b[0;34m.\u001b[0m\u001b[0muploader\u001b[0m \u001b[0;32mimport\u001b[0m \u001b[0mUploader\u001b[0m\u001b[0;34m\u001b[0m\u001b[0;34m\u001b[0m\u001b[0m\n\u001b[0m",
      "\u001b[0;31mModuleNotFoundError\u001b[0m: No module named 'src'"
     ]
    }
   ],
   "source": [
    "from src.uploader import Uploader\n",
    "\n",
    "upload = Uploader('dataset')\n",
    "upload.fill_value(new_product)"
   ]
  },
  {
   "cell_type": "code",
   "execution_count": null,
   "metadata": {},
   "outputs": [],
   "source": []
  }
 ],
 "metadata": {
  "kernelspec": {
   "display_name": "Python 3",
   "language": "python",
   "name": "python3"
  },
  "language_info": {
   "codemirror_mode": {
    "name": "ipython",
    "version": 3
   },
   "file_extension": ".py",
   "mimetype": "text/x-python",
   "name": "python",
   "nbconvert_exporter": "python",
   "pygments_lexer": "ipython3",
   "version": "3.7.8-final"
  }
 },
 "nbformat": 4,
 "nbformat_minor": 4
}