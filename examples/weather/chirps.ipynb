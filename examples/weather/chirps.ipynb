{
 "cells": [
  {
   "cell_type": "code",
   "execution_count": 1,
   "metadata": {
    "ExecuteTime": {
     "end_time": "2020-11-23T02:41:22.236807Z",
     "start_time": "2020-11-23T02:41:22.179632Z"
    }
   },
   "outputs": [],
   "source": [
    "%load_ext autoreload\n",
    "%autoreload 2"
   ]
  },
  {
   "cell_type": "code",
   "execution_count": 2,
   "metadata": {
    "ExecuteTime": {
     "end_time": "2020-11-23T02:41:22.293647Z",
     "start_time": "2020-11-23T02:41:22.245778Z"
    }
   },
   "outputs": [],
   "source": [
    "import sys\n",
    "sys.path.append('../../')"
   ]
  },
  {
   "cell_type": "code",
   "execution_count": 18,
   "metadata": {
    "ExecuteTime": {
     "end_time": "2020-11-23T02:45:13.465878Z",
     "start_time": "2020-11-23T02:45:13.231944Z"
    }
   },
   "outputs": [],
   "source": [
    "from pprint import pprint\n",
    "import numpy as np\n",
    "import descarteslabs as dl\n",
    "\n",
    "from src.ReMasFrame import *"
   ]
  },
  {
   "cell_type": "code",
   "execution_count": 58,
   "metadata": {
    "ExecuteTime": {
     "end_time": "2020-11-23T03:12:13.717951Z",
     "start_time": "2020-11-23T03:12:13.497900Z"
    }
   },
   "outputs": [
    {
     "data": {
      "text/html": [
       "<div>\n",
       "<style scoped>\n",
       "    .dataframe tbody tr th:only-of-type {\n",
       "        vertical-align: middle;\n",
       "    }\n",
       "\n",
       "    .dataframe tbody tr th {\n",
       "        vertical-align: top;\n",
       "    }\n",
       "\n",
       "    .dataframe thead th {\n",
       "        text-align: right;\n",
       "    }\n",
       "</style>\n",
       "<table border=\"1\" class=\"dataframe\">\n",
       "  <thead>\n",
       "    <tr style=\"text-align: right;\">\n",
       "      <th></th>\n",
       "      <th>location_description</th>\n",
       "      <th>landslide_size</th>\n",
       "      <th>event_date</th>\n",
       "      <th>landslide_category</th>\n",
       "      <th>landslide_trigger</th>\n",
       "      <th>fatality_count</th>\n",
       "      <th>injury_count</th>\n",
       "      <th>longitude</th>\n",
       "      <th>latitude</th>\n",
       "      <th>geometry</th>\n",
       "    </tr>\n",
       "  </thead>\n",
       "  <tbody>\n",
       "    <tr>\n",
       "      <th>0</th>\n",
       "      <td>Sigou Village, Loufan County, Shanxi Province</td>\n",
       "      <td>large</td>\n",
       "      <td>2008-08-01</td>\n",
       "      <td>landslide</td>\n",
       "      <td>rain</td>\n",
       "      <td>11.0</td>\n",
       "      <td>NaN</td>\n",
       "      <td>107.450000</td>\n",
       "      <td>32.562500</td>\n",
       "      <td>POINT (107.45000 32.56250)</td>\n",
       "    </tr>\n",
       "    <tr>\n",
       "      <th>1</th>\n",
       "      <td>Lake Oswego, Oregon</td>\n",
       "      <td>small</td>\n",
       "      <td>2009-01-02</td>\n",
       "      <td>mudslide</td>\n",
       "      <td>downpour</td>\n",
       "      <td>0.0</td>\n",
       "      <td>NaN</td>\n",
       "      <td>-122.663000</td>\n",
       "      <td>45.420000</td>\n",
       "      <td>POINT (-122.66300 45.42000)</td>\n",
       "    </tr>\n",
       "    <tr>\n",
       "      <th>2</th>\n",
       "      <td>San Ramon district, 195 miles northeast of the...</td>\n",
       "      <td>large</td>\n",
       "      <td>2007-01-19</td>\n",
       "      <td>landslide</td>\n",
       "      <td>downpour</td>\n",
       "      <td>10.0</td>\n",
       "      <td>NaN</td>\n",
       "      <td>-75.358700</td>\n",
       "      <td>-11.129500</td>\n",
       "      <td>POINT (-75.35870 -11.12950)</td>\n",
       "    </tr>\n",
       "    <tr>\n",
       "      <th>3</th>\n",
       "      <td>Dailekh district</td>\n",
       "      <td>medium</td>\n",
       "      <td>2009-07-31</td>\n",
       "      <td>landslide</td>\n",
       "      <td>monsoon</td>\n",
       "      <td>1.0</td>\n",
       "      <td>NaN</td>\n",
       "      <td>81.708000</td>\n",
       "      <td>28.837800</td>\n",
       "      <td>POINT (81.70800 28.83780)</td>\n",
       "    </tr>\n",
       "    <tr>\n",
       "      <th>5</th>\n",
       "      <td>Paguite, Abuyog, Leyte</td>\n",
       "      <td>medium</td>\n",
       "      <td>2012-02-16</td>\n",
       "      <td>landslide</td>\n",
       "      <td>downpour</td>\n",
       "      <td>0.0</td>\n",
       "      <td>NaN</td>\n",
       "      <td>124.966800</td>\n",
       "      <td>10.700400</td>\n",
       "      <td>POINT (124.96680 10.70040)</td>\n",
       "    </tr>\n",
       "    <tr>\n",
       "      <th>...</th>\n",
       "      <td>...</td>\n",
       "      <td>...</td>\n",
       "      <td>...</td>\n",
       "      <td>...</td>\n",
       "      <td>...</td>\n",
       "      <td>...</td>\n",
       "      <td>...</td>\n",
       "      <td>...</td>\n",
       "      <td>...</td>\n",
       "      <td>...</td>\n",
       "    </tr>\n",
       "    <tr>\n",
       "      <th>11025</th>\n",
       "      <td>Marine View Dr, Tacoma, Washington, 98422</td>\n",
       "      <td>small</td>\n",
       "      <td>2016-11-01</td>\n",
       "      <td>landslide</td>\n",
       "      <td>rain</td>\n",
       "      <td>0.0</td>\n",
       "      <td>0.0</td>\n",
       "      <td>-122.409942</td>\n",
       "      <td>47.290915</td>\n",
       "      <td>POINT (-122.40994 47.29092)</td>\n",
       "    </tr>\n",
       "    <tr>\n",
       "      <th>11026</th>\n",
       "      <td>Tamisk, North Ossetia, Russia</td>\n",
       "      <td>small</td>\n",
       "      <td>2017-06-21</td>\n",
       "      <td>mudslide</td>\n",
       "      <td>rain</td>\n",
       "      <td>0.0</td>\n",
       "      <td>0.0</td>\n",
       "      <td>44.211414</td>\n",
       "      <td>42.954914</td>\n",
       "      <td>POINT (44.21141 42.95491)</td>\n",
       "    </tr>\n",
       "    <tr>\n",
       "      <th>11027</th>\n",
       "      <td>509 S Sunset Terrace, Above Highway 97, Harris...</td>\n",
       "      <td>small</td>\n",
       "      <td>2017-03-23</td>\n",
       "      <td>mudslide</td>\n",
       "      <td>rain</td>\n",
       "      <td>0.0</td>\n",
       "      <td>0.0</td>\n",
       "      <td>-116.777680</td>\n",
       "      <td>47.449165</td>\n",
       "      <td>POINT (-116.77768 47.44917)</td>\n",
       "    </tr>\n",
       "    <tr>\n",
       "      <th>11028</th>\n",
       "      <td>Banaran, Ponorogo, Jawa Timur, Indonesia</td>\n",
       "      <td>medium</td>\n",
       "      <td>2017-04-01</td>\n",
       "      <td>landslide</td>\n",
       "      <td>rain</td>\n",
       "      <td>27.0</td>\n",
       "      <td>0.0</td>\n",
       "      <td>111.679944</td>\n",
       "      <td>-7.853409</td>\n",
       "      <td>POINT (111.67994 -7.85341)</td>\n",
       "    </tr>\n",
       "    <tr>\n",
       "      <th>11031</th>\n",
       "      <td>Ayu, Ozgon, Osh, Kyrgyzstan</td>\n",
       "      <td>large</td>\n",
       "      <td>2017-04-29</td>\n",
       "      <td>translational_slide</td>\n",
       "      <td>downpour</td>\n",
       "      <td>24.0</td>\n",
       "      <td>NaN</td>\n",
       "      <td>73.472379</td>\n",
       "      <td>40.886395</td>\n",
       "      <td>POINT (73.47238 40.88639)</td>\n",
       "    </tr>\n",
       "  </tbody>\n",
       "</table>\n",
       "<p>8359 rows × 10 columns</p>\n",
       "</div>"
      ],
      "text/plain": [
       "                                    location_description landslide_size  \\\n",
       "0          Sigou Village, Loufan County, Shanxi Province          large   \n",
       "1                                    Lake Oswego, Oregon          small   \n",
       "2      San Ramon district, 195 miles northeast of the...          large   \n",
       "3                                       Dailekh district         medium   \n",
       "5                                 Paguite, Abuyog, Leyte         medium   \n",
       "...                                                  ...            ...   \n",
       "11025          Marine View Dr, Tacoma, Washington, 98422          small   \n",
       "11026                      Tamisk, North Ossetia, Russia          small   \n",
       "11027  509 S Sunset Terrace, Above Highway 97, Harris...          small   \n",
       "11028           Banaran, Ponorogo, Jawa Timur, Indonesia         medium   \n",
       "11031                        Ayu, Ozgon, Osh, Kyrgyzstan          large   \n",
       "\n",
       "       event_date   landslide_category landslide_trigger  fatality_count  \\\n",
       "0      2008-08-01            landslide              rain            11.0   \n",
       "1      2009-01-02             mudslide          downpour             0.0   \n",
       "2      2007-01-19            landslide          downpour            10.0   \n",
       "3      2009-07-31            landslide           monsoon             1.0   \n",
       "5      2012-02-16            landslide          downpour             0.0   \n",
       "...           ...                  ...               ...             ...   \n",
       "11025  2016-11-01            landslide              rain             0.0   \n",
       "11026  2017-06-21             mudslide              rain             0.0   \n",
       "11027  2017-03-23             mudslide              rain             0.0   \n",
       "11028  2017-04-01            landslide              rain            27.0   \n",
       "11031  2017-04-29  translational_slide          downpour            24.0   \n",
       "\n",
       "       injury_count   longitude   latitude                     geometry  \n",
       "0               NaN  107.450000  32.562500   POINT (107.45000 32.56250)  \n",
       "1               NaN -122.663000  45.420000  POINT (-122.66300 45.42000)  \n",
       "2               NaN  -75.358700 -11.129500  POINT (-75.35870 -11.12950)  \n",
       "3               NaN   81.708000  28.837800    POINT (81.70800 28.83780)  \n",
       "5               NaN  124.966800  10.700400   POINT (124.96680 10.70040)  \n",
       "...             ...         ...        ...                          ...  \n",
       "11025           0.0 -122.409942  47.290915  POINT (-122.40994 47.29092)  \n",
       "11026           0.0   44.211414  42.954914    POINT (44.21141 42.95491)  \n",
       "11027           0.0 -116.777680  47.449165  POINT (-116.77768 47.44917)  \n",
       "11028           0.0  111.679944  -7.853409   POINT (111.67994 -7.85341)  \n",
       "11031           NaN   73.472379  40.886395    POINT (73.47238 40.88639)  \n",
       "\n",
       "[8359 rows x 10 columns]"
      ]
     },
     "execution_count": 58,
     "metadata": {},
     "output_type": "execute_result"
    }
   ],
   "source": [
    "nasa_df"
   ]
  },
  {
   "cell_type": "code",
   "execution_count": 19,
   "metadata": {
    "ExecuteTime": {
     "end_time": "2020-11-23T02:45:32.194549Z",
     "start_time": "2020-11-23T02:45:13.924881Z"
    }
   },
   "outputs": [],
   "source": [
    "nasa_df = ReMasFrame()\n",
    "\n",
    "# Choose an idx --> a landslide (or filter the geodataframe :D)\n",
    "idx_test = 11031\n",
    "\n",
    "# Returns products that we use as a dict\n",
    "products = nasa_df.get_products()"
   ]
  },
  {
   "cell_type": "code",
   "execution_count": 9,
   "metadata": {
    "ExecuteTime": {
     "end_time": "2020-11-23T01:48:52.829866Z",
     "start_time": "2020-11-23T01:48:52.763046Z"
    }
   },
   "outputs": [
    {
     "name": "stdout",
     "output_type": "stream",
     "text": [
      "{'bands': ['daily_precipitation'],\n",
      " 'freq': 'daily',\n",
      " 'id': 'chirps:daily:v1',\n",
      " 'name': 'CHIRPS Daily Precipitation Weather',\n",
      " 'res': '5km'}\n",
      "['daily_precipitation']\n"
     ]
    },
    {
     "data": {
      "text/plain": [
       "(None, None)"
      ]
     },
     "execution_count": 9,
     "metadata": {},
     "output_type": "execute_result"
    }
   ],
   "source": [
    "pprint(products['weather']['chirps'])"
   ]
  },
  {
   "cell_type": "code",
   "execution_count": 104,
   "metadata": {
    "ExecuteTime": {
     "end_time": "2020-11-23T03:59:14.319126Z",
     "start_time": "2020-11-23T03:59:14.245243Z"
    }
   },
   "outputs": [],
   "source": [
    "def get_scenes(product, buffer_size, res):\n",
    "    # Returns start and end date of a 4 day interval\n",
    "    start_date, end_date = nasa_df.date_interval(nasa_df.event_date[idx_test], delta_minus=10)\n",
    "    \n",
    "    scenes, ctx = ReMasFrame.search_scenes(\n",
    "        nasa_df['geometry'][idx_test].buffer(buffer_size).envelope, \n",
    "        product['id'], \n",
    "        start_date=start_date, \n",
    "        end_date=end_date, \n",
    "        limit=20\n",
    "    )\n",
    "    \n",
    "    new_ctx = ctx.assign(resolution=res)\n",
    "    \n",
    "    return scenes, new_ctx, start_date, end_date\n",
    "\n",
    "def get_composite(product, buffer_size, res):\n",
    "    \n",
    "    scenes, new_ctx = get_scenes(product, buffer_size, res)\n",
    "    \n",
    "    arr_stack = scenes.stack(product['bands'], new_ctx)\n",
    "    composite = np.ma.median(arr_stack, axis=0)\n",
    "    \n",
    "    return (scenes, new_ctx), composite"
   ]
  },
  {
   "cell_type": "code",
   "execution_count": 109,
   "metadata": {
    "ExecuteTime": {
     "end_time": "2020-11-23T04:11:01.719185Z",
     "start_time": "2020-11-23T04:10:48.496577Z"
    },
    "scrolled": false
   },
   "outputs": [
    {
     "data": {
      "image/png": "[encoded data removed]",
      "text/plain": [
       "<Figure size 360x360 with 1 Axes>"
      ]
     },
     "metadata": {
      "needs_background": "light"
     },
     "output_type": "display_data"
    },
    {
     "name": "stdout",
     "output_type": "stream",
     "text": [
      "0.0 0.0 (1, 5, 5) \n",
      " (73.37237853, 40.786394969999996, 73.57237853, 40.98639497)\n"
     ]
    },
    {
     "data": {
      "image/png": "[encoded data removed]",
      "text/plain": [
       "<Figure size 360x360 with 1 Axes>"
      ]
     },
     "metadata": {
      "needs_background": "light"
     },
     "output_type": "display_data"
    },
    {
     "name": "stdout",
     "output_type": "stream",
     "text": [
      "0.0 2.0921135 (1, 5, 5) \n",
      " (73.37237853, 40.786394969999996, 73.57237853, 40.98639497)\n"
     ]
    },
    {
     "data": {
      "image/png": "[encoded data removed]",
      "text/plain": [
       "<Figure size 360x360 with 1 Axes>"
      ]
     },
     "metadata": {
      "needs_background": "light"
     },
     "output_type": "display_data"
    },
    {
     "name": "stdout",
     "output_type": "stream",
     "text": [
      "0.0 0.0 (1, 5, 5) \n",
      " (73.37237853, 40.786394969999996, 73.57237853, 40.98639497)\n"
     ]
    },
    {
     "data": {
      "image/png": "[encoded data removed]",
      "text/plain": [
       "<Figure size 360x360 with 1 Axes>"
      ]
     },
     "metadata": {
      "needs_background": "light"
     },
     "output_type": "display_data"
    },
    {
     "name": "stdout",
     "output_type": "stream",
     "text": [
      "0.0 0.0 (1, 5, 5) \n",
      " (73.37237853, 40.786394969999996, 73.57237853, 40.98639497)\n"
     ]
    },
    {
     "data": {
      "image/png": "[encoded data removed]",
      "text/plain": [
       "<Figure size 360x360 with 1 Axes>"
      ]
     },
     "metadata": {
      "needs_background": "light"
     },
     "output_type": "display_data"
    },
    {
     "name": "stdout",
     "output_type": "stream",
     "text": [
      "0.0 0.0 (1, 5, 5) \n",
      " (73.37237853, 40.786394969999996, 73.57237853, 40.98639497)\n"
     ]
    },
    {
     "data": {
      "image/png": "[encoded data removed]",
      "text/plain": [
       "<Figure size 360x360 with 1 Axes>"
      ]
     },
     "metadata": {
      "needs_background": "light"
     },
     "output_type": "display_data"
    },
    {
     "name": "stdout",
     "output_type": "stream",
     "text": [
      "0.0 0.0 (1, 5, 5) \n",
      " (73.37237853, 40.786394969999996, 73.57237853, 40.98639497)\n"
     ]
    },
    {
     "data": {
      "image/png": "[encoded data removed]",
      "text/plain": [
       "<Figure size 360x360 with 1 Axes>"
      ]
     },
     "metadata": {
      "needs_background": "light"
     },
     "output_type": "display_data"
    },
    {
     "name": "stdout",
     "output_type": "stream",
     "text": [
      "0.0 0.0 (1, 5, 5) \n",
      " (73.37237853, 40.786394969999996, 73.57237853, 40.98639497)\n"
     ]
    },
    {
     "data": {
      "image/png": "[encoded data removed]",
      "text/plain": [
       "<Figure size 360x360 with 1 Axes>"
      ]
     },
     "metadata": {
      "needs_background": "light"
     },
     "output_type": "display_data"
    },
    {
     "name": "stdout",
     "output_type": "stream",
     "text": [
      "0.0 0.0 (1, 5, 5) \n",
      " (73.37237853, 40.786394969999996, 73.57237853, 40.98639497)\n"
     ]
    },
    {
     "data": {
      "image/png": "[encoded data removed]",
      "text/plain": [
       "<Figure size 360x360 with 1 Axes>"
      ]
     },
     "metadata": {
      "needs_background": "light"
     },
     "output_type": "display_data"
    },
    {
     "name": "stdout",
     "output_type": "stream",
     "text": [
      "0.0 0.0 (1, 5, 5) \n",
      " (73.37237853, 40.786394969999996, 73.57237853, 40.98639497)\n"
     ]
    },
    {
     "data": {
      "image/png": "[encoded data removed]",
      "text/plain": [
       "<Figure size 360x360 with 1 Axes>"
      ]
     },
     "metadata": {
      "needs_background": "light"
     },
     "output_type": "display_data"
    },
    {
     "name": "stdout",
     "output_type": "stream",
     "text": [
      "0.0 0.0 (1, 5, 5) \n",
      " (73.37237853, 40.786394969999996, 73.57237853, 40.98639497)\n"
     ]
    },
    {
     "data": {
      "image/png": "[encoded data removed]",
      "text/plain": [
       "<Figure size 360x360 with 1 Axes>"
      ]
     },
     "metadata": {
      "needs_background": "light"
     },
     "output_type": "display_data"
    },
    {
     "name": "stdout",
     "output_type": "stream",
     "text": [
      "0.0 6.1080437 (1, 5, 5) \n",
      " (73.37237853, 40.786394969999996, 73.57237853, 40.98639497)\n"
     ]
    }
   ],
   "source": [
    "scenes, ctx, ini, end = get_scenes(products['weather']['chirps'], buffer_size=0.1, res=0.05)\n",
    "for i in range(len(scenes)):\n",
    "    array = scenes[i].ndarray(products['weather']['chirps']['bands'], ctx)\n",
    "    dl.scenes.display(array, colormap='viridis', size=5)\n",
    "    \n",
    "    print(np.min(array),np.max(array), array.shape, '\\n', ctx.bounds)"
   ]
  },
  {
   "cell_type": "code",
   "execution_count": null,
   "metadata": {},
   "outputs": [],
   "source": []
  }
 ],
 "metadata": {
  "kernelspec": {
   "display_name": "Python 3",
   "language": "python",
   "name": "python3"
  },
  "language_info": {
   "codemirror_mode": {
    "name": "ipython",
    "version": 3
   },
   "file_extension": ".py",
   "mimetype": "text/x-python",
   "name": "python",
   "nbconvert_exporter": "python",
   "pygments_lexer": "ipython3",
   "version": "3.8.5"
  }
 },
 "nbformat": 4,
 "nbformat_minor": 4
}
