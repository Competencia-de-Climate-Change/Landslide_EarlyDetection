{
 "cells": [
  {
   "cell_type": "code",
   "execution_count": 1,
   "metadata": {
    "ExecuteTime": {
     "end_time": "2020-11-23T01:46:19.513795Z",
     "start_time": "2020-11-23T01:46:19.464978Z"
    }
   },
   "outputs": [],
   "source": [
    "%load_ext autoreload\n",
    "%autoreload 2"
   ]
  },
  {
   "cell_type": "code",
   "execution_count": 2,
   "metadata": {
    "ExecuteTime": {
     "end_time": "2020-11-23T01:46:19.547497Z",
     "start_time": "2020-11-23T01:46:19.521183Z"
    }
   },
   "outputs": [],
   "source": [
    "import sys\n",
    "sys.path.append('../../')"
   ]
  },
  {
   "cell_type": "code",
   "execution_count": 3,
   "metadata": {
    "ExecuteTime": {
     "end_time": "2020-11-23T01:46:22.460391Z",
     "start_time": "2020-11-23T01:46:19.555307Z"
    }
   },
   "outputs": [],
   "source": [
    "from pprint import pprint\n",
    "import numpy as np\n",
    "import descarteslabs as dl\n",
    "\n",
    "from src.ReMasFrame import *"
   ]
  },
  {
   "cell_type": "code",
   "execution_count": 4,
   "metadata": {
    "ExecuteTime": {
     "end_time": "2020-11-23T01:46:47.207056Z",
     "start_time": "2020-11-23T01:46:22.467229Z"
    }
   },
   "outputs": [
    {
     "name": "stderr",
     "output_type": "stream",
     "text": [
      "/home/step/miniconda3/envs/projectx/lib/python3.8/site-packages/google/auth/_default.py:69: UserWarning: Your application has authenticated using end user credentials from Google Cloud SDK without a quota project. You might receive a \"quota exceeded\" or \"API not enabled\" error. We recommend you rerun `gcloud auth application-default login` and make sure a quota project is added. Or you can use service accounts instead. For more information about service accounts, see https://cloud.google.com/docs/authentication/\n",
      "  warnings.warn(_CLOUD_SDK_CREDENTIALS_WARNING)\n"
     ]
    }
   ],
   "source": [
    "nasa_df = ReMasFrame()\n",
    "\n",
    "# Choose an idx --> a landslide (or filter the geodataframe :D)\n",
    "idx_test = 11031\n",
    "\n",
    "# changes Point to Polygon\n",
    "# nasa_df_polygon = nasa_df.create_box(8000000)\n",
    "\n",
    "# Returns products that we use as a dict\n",
    "products = nasa_df.get_products()"
   ]
  },
  {
   "cell_type": "code",
   "execution_count": null,
   "metadata": {
    "ExecuteTime": {
     "start_time": "2020-11-23T01:47:26.269Z"
    }
   },
   "outputs": [],
   "source": [
    "pprint(products['weather']['chirps'])"
   ]
  },
  {
   "cell_type": "code",
   "execution_count": 6,
   "metadata": {
    "ExecuteTime": {
     "end_time": "2020-11-23T01:46:47.401811Z",
     "start_time": "2020-11-23T01:46:47.316266Z"
    }
   },
   "outputs": [],
   "source": [
    "def get_scenes(product, buffer_size, res):\n",
    "    # Returns start and end date of a 4 day interval\n",
    "    start_date, end_date = nasa_df.date_interval(nasa_df.event_date[idx_test], delta=10)\n",
    "    \n",
    "    scenes, ctx = ReMasFrame.search_scenes(\n",
    "        nasa_df['geometry'][idx_test].buffer(buffer_size).envelope, \n",
    "        product['id'], \n",
    "        start_date=start_date, \n",
    "        end_date=end_date, \n",
    "        limit=10\n",
    "    )\n",
    "    \n",
    "    new_ctx = ctx.assign(resolution=res)\n",
    "    \n",
    "    return scenes, new_ctx\n",
    "\n",
    "def get_composite(product, buffer_size, res):\n",
    "    \n",
    "    scenes, new_ctx = get_scenes(product, buffer_size, res)\n",
    "    \n",
    "    arr_stack = scenes.stack(product['bands'], new_ctx)\n",
    "    composite = np.ma.median(arr_stack, axis=0)\n",
    "    \n",
    "    return (scenes, new_ctx), composite"
   ]
  },
  {
   "cell_type": "code",
   "execution_count": 7,
   "metadata": {
    "ExecuteTime": {
     "end_time": "2020-11-23T01:46:51.581283Z",
     "start_time": "2020-11-23T01:46:47.414919Z"
    }
   },
   "outputs": [
    {
     "data": {
      "image/png": "[encoded data removed]",
      "text/plain": [
       "<Figure size 360x360 with 1 Axes>"
      ]
     },
     "metadata": {
      "needs_background": "light"
     },
     "output_type": "display_data"
    }
   ],
   "source": [
    "(scenes, ctx), composite = get_composite(products['weather']['chirps'], buffer_size=10, res=0.1)\n",
    "dl.scenes.display(composite, colormap='viridis', size=5)"
   ]
  },
  {
   "cell_type": "code",
   "execution_count": null,
   "metadata": {
    "ExecuteTime": {
     "start_time": "2020-11-23T01:46:19.472Z"
    }
   },
   "outputs": [
    {
     "name": "stdout",
     "output_type": "stream",
     "text": [
      "Shape using resolution 0.01                : (1, 2001, 2001)\n",
      "Shape using resolution 0.030204081632653063: (1, 663, 663)\n",
      "Shape using resolution 0.05040816326530612 : (1, 398, 397)\n",
      "Shape using resolution 0.07061224489795918 : (1, 284, 285)\n",
      "Shape using resolution 0.09081632653061224 : (1, 221, 222)\n",
      "Shape using resolution 0.11102040816326529 : (1, 181, 181)\n",
      "Shape using resolution 0.13122448979591836 : (1, 153, 154)\n",
      "Shape using resolution 0.15142857142857144 : (1, 134, 133)\n",
      "Shape using resolution 0.1716326530612245  : (1, 118, 118)\n",
      "Shape using resolution 0.19183673469387755 : (1, 105, 106)\n",
      "Shape using resolution 0.2120408163265306  : (1, 95, 95)\n",
      "Shape using resolution 0.23224489795918368 : (1, 88, 87)\n",
      "Shape using resolution 0.2524489795918367  : (1, 80, 80)\n",
      "Shape using resolution 0.2726530612244898  : (1, 74, 75)\n",
      "Shape using resolution 0.29285714285714287 : (1, 69, 70)\n",
      "Shape using resolution 0.3130612244897959  : (1, 65, 65)\n",
      "Shape using resolution 0.333265306122449   : (1, 61, 61)\n",
      "Shape using resolution 0.35346938775510206 : (1, 57, 58)\n",
      "Shape using resolution 0.3736734693877551  : (1, 55, 55)\n",
      "Shape using resolution 0.39387755102040817 : (1, 52, 51)\n",
      "Shape using resolution 0.4140816326530612  : (1, 49, 49)\n",
      "Shape using resolution 0.4342857142857143  : (1, 47, 47)\n",
      "Shape using resolution 0.45448979591836736 : (1, 45, 45)\n",
      "Shape using resolution 0.4746938775510204  : (1, 43, 43)\n"
     ]
    }
   ],
   "source": [
    "# Choose CHIRPS Daily Precip and correct res\n",
    "possible_reses = np.linspace(0.01, 1, 50)\n",
    "\n",
    "for res in possible_reses:\n",
    "    (scenes, ctx), composite = get_composite(products['weather']['chirps'], buffer_size=10, res=res)\n",
    "    shape = scenes[-1].ndarray(products['weather']['chirps']['bands'], ctx).shape\n",
    "    \n",
    "    print(f\"Shape using resolution {res:<20}: {shape}\")"
   ]
  }
 ],
 "metadata": {
  "kernelspec": {
   "display_name": "Python 3",
   "language": "python",
   "name": "python3"
  },
  "language_info": {
   "codemirror_mode": {
    "name": "ipython",
    "version": 3
   },
   "file_extension": ".py",
   "mimetype": "text/x-python",
   "name": "python",
   "nbconvert_exporter": "python",
   "pygments_lexer": "ipython3",
   "version": "3.8.5"
  }
 },
 "nbformat": 4,
 "nbformat_minor": 4
}
