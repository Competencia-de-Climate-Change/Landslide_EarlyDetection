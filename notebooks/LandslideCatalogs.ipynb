{
 "cells": [
  {
   "cell_type": "markdown",
   "metadata": {},
   "source": [
    "# Checking Catalogs"
   ]
  },
  {
   "cell_type": "code",
   "execution_count": 1,
   "metadata": {},
   "outputs": [],
   "source": [
    "import fsspec\n",
    "import gcsfs\n",
    "\n",
    "mapper = fsspec.get_mapper('gcs://data-projectx/', )\n",
    "\n",
    "from io import StringIO\n",
    "import pandas as pd\n",
    "\n",
    "def read_bytes_string(byte_file, encoding='utf-8'):\n",
    "    s = str(byte_file,'utf-8')\n",
    "    return StringIO(s) \n",
    "\n",
    "nasa_gcp_df = pd.read_csv(read_bytes_string(mapper['nasa/procesados/data_final.csv']))"
   ]
  },
  {
   "cell_type": "code",
   "execution_count": 2,
   "metadata": {},
   "outputs": [],
   "source": [
    "# !wget https://data.nasa.gov/api/views/dd9e-wu2v/rows.csv?accessType=DOWNLOAD -O nasa.csv\n",
    "nasa_df = pd.read_csv('nasa.csv')"
   ]
  },
  {
   "cell_type": "code",
   "execution_count": 3,
   "metadata": {},
   "outputs": [
    {
     "data": {
      "text/plain": [
       "(Index(['source_name', 'source_link', 'event_id', 'event_date', 'event_time',\n",
       "        'event_title', 'event_description', 'location_description',\n",
       "        'location_accuracy', 'landslide_category', 'landslide_trigger',\n",
       "        'landslide_size', 'landslide_setting', 'fatality_count', 'injury_count',\n",
       "        'storm_name', 'photo_link', 'notes', 'event_import_source',\n",
       "        'event_import_id', 'country_name', 'country_code',\n",
       "        'admin_division_name', 'admin_division_population',\n",
       "        'gazeteer_closest_point', 'gazeteer_distance', 'submitted_date',\n",
       "        'created_date', 'last_edited_date', 'longitude', 'latitude'],\n",
       "       dtype='object'),\n",
       " Index(['id', 'nearest_pl', 'landslide_', 'trigger', 'fatalities', 'injuries',\n",
       "        'location_a', 'landslide1', 'cat_src', 'cat_id', 'countrynam', 'near',\n",
       "        'distance', 'population', 'continentc', 'tstamp', 'changeset_',\n",
       "        'latitude', 'longitude', 'geometry'],\n",
       "       dtype='object'))"
      ]
     },
     "execution_count": 3,
     "metadata": {},
     "output_type": "execute_result"
    }
   ],
   "source": [
    "nasa_df.columns, nasa_gcp_df.columns"
   ]
  },
  {
   "cell_type": "code",
   "execution_count": 4,
   "metadata": {},
   "outputs": [
    {
     "data": {
      "text/plain": [
       "array(['rain', 'downpour', 'monsoon', 'tropical_cyclone', 'unknown',\n",
       "       'continuous_rain', 'dam_embankment_collapse',\n",
       "       'no_apparent_trigger', nan, 'other', 'leaking_pipe',\n",
       "       'construction', 'snowfall_snowmelt', 'mining', 'flooding',\n",
       "       'earthquake', 'freeze_thaw', 'volcano', 'vibration'], dtype=object)"
      ]
     },
     "execution_count": 4,
     "metadata": {},
     "output_type": "execute_result"
    }
   ],
   "source": [
    "nasa_df.landslide_trigger.unique()"
   ]
  },
  {
   "cell_type": "code",
   "execution_count": 5,
   "metadata": {},
   "outputs": [],
   "source": [
    "interest_triggers = ['rain', 'downpour', 'monsoon', 'continuous_rain','snowfall_snowmelt', 'flooding']\n",
    "interest_triggers_gcp = ['Rain', 'Downpour', 'Monsoon', 'Continuous_Rain','Snowfall_snowmelt', 'Flooding']"
   ]
  },
  {
   "cell_type": "code",
   "execution_count": 6,
   "metadata": {},
   "outputs": [
    {
     "data": {
      "text/plain": [
       "((8359, 31), (5628, 20))"
      ]
     },
     "execution_count": 6,
     "metadata": {},
     "output_type": "execute_result"
    }
   ],
   "source": [
    "nasa_df[nasa_df.landslide_trigger.isin(interest_triggers)].shape, \\\n",
    "nasa_gcp_df[nasa_gcp_df.trigger.isin(interest_triggers_gcp)].shape"
   ]
  },
  {
   "cell_type": "markdown",
   "metadata": {},
   "source": [
    "**MORE DATA IN SECOND DATA SOURCE**"
   ]
  },
  {
   "cell_type": "code",
   "execution_count": 7,
   "metadata": {},
   "outputs": [],
   "source": [
    "nasa_df.to_csv('gcs://data-projectx/nasa/landslides.csv')"
   ]
  },
  {
   "cell_type": "code",
   "execution_count": 11,
   "metadata": {},
   "outputs": [
    {
     "data": {
      "text/plain": [
       "['data-projectx/nasa/landslides.csv',\n",
       " 'data-projectx/nasa/originales',\n",
       " 'data-projectx/nasa/procesados']"
      ]
     },
     "execution_count": 11,
     "metadata": {},
     "output_type": "execute_result"
    }
   ],
   "source": [
    "from gcsfs.core import GCSFileSystem\n",
    "gcs = GCSFileSystem('projectx', token='/home/jovyan/.config/gcloud/application_default_credentials.json')\n",
    "gcs.ls('data-projectx/nasa/')"
   ]
  },
  {
   "cell_type": "code",
   "execution_count": null,
   "metadata": {},
   "outputs": [],
   "source": []
  }
 ],
 "metadata": {
  "kernelspec": {
   "display_name": "Python 3",
   "language": "python",
   "name": "python3"
  },
  "language_info": {
   "codemirror_mode": {
    "name": "ipython",
    "version": 3
   },
   "file_extension": ".py",
   "mimetype": "text/x-python",
   "name": "python",
   "nbconvert_exporter": "python",
   "pygments_lexer": "ipython3",
   "version": "3.7.8"
  }
 },
 "nbformat": 4,
 "nbformat_minor": 4
}
