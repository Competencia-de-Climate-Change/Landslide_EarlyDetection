{
 "cells": [
  {
   "cell_type": "markdown",
   "metadata": {},
   "source": [
    "## Downloading Files from Bucket"
   ]
  },
  {
   "cell_type": "code",
   "execution_count": null,
   "metadata": {},
   "outputs": [],
   "source": [
    "download_dict = {\n",
    "    'fname' : url,\n",
    "}"
   ]
  },
  {
   "cell_type": "markdown",
   "metadata": {},
   "source": [
    "## Creating Polygons"
   ]
  },
  {
   "cell_type": "code",
   "execution_count": 12,
   "metadata": {},
   "outputs": [],
   "source": [
    "def raise_(ex):\n",
    "    raise ex"
   ]
  },
  {
   "cell_type": "code",
   "execution_count": 13,
   "metadata": {},
   "outputs": [],
   "source": [
    "create_bbox = lambda lat,lon : raise_(NotImplementedError)\n",
    "\n",
    "def create_Point(lat, lon, properties_dict, add_bbox=False):\n",
    "    aoi_point = \\\n",
    "    {\n",
    "      \"type\": \"Feature\",\n",
    "      \"geometry\": {\n",
    "        \"type\": \"Point\",\n",
    "        \"coordinates\": [lon, lat]\n",
    "      }\n",
    "    }\n",
    "    \n",
    "    aoi_point['properties'] = properties_dict\n",
    "    \n",
    "    if add_bbox:\n",
    "        bbox = create_bbox(lat, lon)\n",
    "        aoi_point['bbox'] = bbox\n",
    "        \n",
    "    return aoi_point\n",
    "\n",
    "def create_PointCollection(point_list):\n",
    "    return None"
   ]
  },
  {
   "cell_type": "markdown",
   "metadata": {},
   "source": [
    "## Intersecting with images"
   ]
  },
  {
   "cell_type": "code",
   "execution_count": 14,
   "metadata": {},
   "outputs": [],
   "source": [
    "import descarteslabs as dl"
   ]
  },
  {
   "cell_type": "markdown",
   "metadata": {},
   "source": [
    "## MISC"
   ]
  },
  {
   "cell_type": "code",
   "execution_count": 4,
   "metadata": {},
   "outputs": [],
   "source": [
    "a = {\n",
    "  \"type\": \"FeatureCollection\",\n",
    "  \"features\": [\n",
    "    {\n",
    "      \"type\": \"Feature\",\n",
    "      \"geometry\": {\n",
    "        \"type\": \"Point\",\n",
    "        \"coordinates\": [102.0, 0.5]\n",
    "      },\n",
    "      \"properties\": {\n",
    "        \"prop0\": \"value0\"\n",
    "      }\n",
    "    },\n",
    "    {\n",
    "      \"type\": \"Feature\",\n",
    "      \"geometry\": {\n",
    "        \"type\": \"LineString\",\n",
    "        \"coordinates\": [\n",
    "          [102.0, 0.0], [103.0, 1.0], [104.0, 0.0], [105.0, 1.0]\n",
    "        ]\n",
    "      },\n",
    "      \"properties\": {\n",
    "        \"prop0\": \"value0\",\n",
    "        \"prop1\": 0.0\n",
    "      }\n",
    "    },\n",
    "    {\n",
    "      \"type\": \"Feature\",\n",
    "      \"geometry\": {\n",
    "        \"type\": \"Polygon\",\n",
    "        \"coordinates\": [\n",
    "          [\n",
    "            [100.0, 0.0], [101.0, 0.0], [101.0, 1.0],\n",
    "            [100.0, 1.0], [100.0, 0.0]\n",
    "          ]\n",
    "        ]\n",
    "      },\n",
    "      \"properties\": {\n",
    "        \"prop0\": \"value0\",\n",
    "        \"prop1\": { \"this\": \"that\" }\n",
    "      }\n",
    "    }\n",
    "  ]\n",
    "}"
   ]
  },
  {
   "cell_type": "code",
   "execution_count": null,
   "metadata": {},
   "outputs": [],
   "source": []
  }
 ],
 "metadata": {
  "kernelspec": {
   "display_name": "Python 3",
   "language": "python",
   "name": "python3"
  },
  "language_info": {
   "codemirror_mode": {
    "name": "ipython",
    "version": 3
   },
   "file_extension": ".py",
   "mimetype": "text/x-python",
   "name": "python",
   "nbconvert_exporter": "python",
   "pygments_lexer": "ipython3",
   "version": "3.7.8"
  }
 },
 "nbformat": 4,
 "nbformat_minor": 4
}
