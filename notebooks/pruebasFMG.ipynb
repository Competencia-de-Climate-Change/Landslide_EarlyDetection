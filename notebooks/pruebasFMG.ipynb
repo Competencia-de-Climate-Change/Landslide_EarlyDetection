{
 "cells": [
  {
   "cell_type": "markdown",
   "metadata": {},
   "source": [
    "# Importaciones preliminares"
   ]
  },
  {
   "cell_type": "code",
   "execution_count": 153,
   "metadata": {},
   "outputs": [],
   "source": [
    "import warnings\n",
    "from src.ReMasFrame import ReMasFrame\n",
    "warnings.filterwarnings(\"ignore\")\n",
    "import numpy as np\n",
    "import descarteslabs as dl"
   ]
  },
  {
   "cell_type": "markdown",
   "metadata": {},
   "source": [
    "# "
   ]
  },
  {
   "cell_type": "code",
   "execution_count": 94,
   "metadata": {},
   "outputs": [],
   "source": [
    "# Definir número de km para el box\n",
    "km = 10"
   ]
  },
  {
   "cell_type": "code",
   "execution_count": 95,
   "metadata": {},
   "outputs": [],
   "source": [
    "def get_ids(products, cat):\n",
    "    \"\"\"\n",
    "    Obtiene el id de los productos 'products' dada una categoria 'cat'\n",
    "    \"\"\"\n",
    "    dictio = products[cat]\n",
    "    return [dictio[key][\"id\"] for key in dictio]"
   ]
  },
  {
   "cell_type": "code",
   "execution_count": 96,
   "metadata": {},
   "outputs": [],
   "source": [
    "# Crear instancia ReMasFrame\n",
    "remas = ReMasFrame()\n",
    "# Crear wheather\n",
    "wheather = get_ids(remas.get_products(), \"weather\")\n",
    "# Crear segunda instancia que use boxes\n",
    "remas2 = remas.create_box(km)"
   ]
  },
  {
   "cell_type": "code",
   "execution_count": 127,
   "metadata": {},
   "outputs": [],
   "source": [
    "# Buscar escenas\n",
    "scenes, ctx = remas.search_scenes(polygons=remas2.geometry.values[0],\n",
    "                                  product_ids=wheather)"
   ]
  },
  {
   "cell_type": "code",
   "execution_count": 98,
   "metadata": {},
   "outputs": [
    {
     "data": {
      "text/plain": [
       "SceneCollection of 10 scenes\n",
       "  * Dates: Jan 01, 1981 to Jan 10, 1981\n",
       "  * Products: chirps:daily:v1: 10"
      ]
     },
     "execution_count": 98,
     "metadata": {},
     "output_type": "execute_result"
    }
   ],
   "source": [
    "scenes"
   ]
  },
  {
   "cell_type": "markdown",
   "metadata": {},
   "source": [
    "# Obtener productos"
   ]
  },
  {
   "cell_type": "code",
   "execution_count": 129,
   "metadata": {},
   "outputs": [],
   "source": [
    "# Obtener los productos de remas\n",
    "products = remas.get_products()\n",
    "# products"
   ]
  },
  {
   "cell_type": "code",
   "execution_count": 110,
   "metadata": {},
   "outputs": [
    {
     "data": {
      "text/plain": [
       "dict_keys(['weather', 'soil_moist', 'elevation', 'population'])"
      ]
     },
     "execution_count": 110,
     "metadata": {},
     "output_type": "execute_result"
    }
   ],
   "source": [
    "# Cuales son las llaves de los productos\n",
    "products.keys()"
   ]
  },
  {
   "cell_type": "code",
   "execution_count": 174,
   "metadata": {},
   "outputs": [],
   "source": [
    "# Obtener un producto en particular\n",
    "p = products[\"weather\"]\n",
    "# p"
   ]
  },
  {
   "cell_type": "code",
   "execution_count": 175,
   "metadata": {},
   "outputs": [
    {
     "data": {
      "text/plain": [
       "dict_keys(['goes', 'gsod', 'chirps', 'cfs'])"
      ]
     },
     "execution_count": 175,
     "metadata": {},
     "output_type": "execute_result"
    }
   ],
   "source": [
    "# Cuales son las llaves del producto\n",
    "p.keys()"
   ]
  },
  {
   "cell_type": "code",
   "execution_count": 176,
   "metadata": {},
   "outputs": [
    {
     "data": {
      "text/plain": [
       "{'name': 'GSOD Daily Interpolation Weather Product',\n",
       " 'id': 'daily-weather:gsod-interpolated:v0',\n",
       " 'res': '10km',\n",
       " 'bands': ['tavg', 'tmax', 'tmin', 'rh', 'prec'],\n",
       " 'descrip': 'interpolated raster from 1980-01-01 for geographical area from -180 deg to 180 deg longitude, and from -60 to 60 deg latitude.'}"
      ]
     },
     "execution_count": 176,
     "metadata": {},
     "output_type": "execute_result"
    }
   ],
   "source": [
    "# Obtener un producto\n",
    "p_ = p[\"gsod\"]\n",
    "p_"
   ]
  },
  {
   "cell_type": "code",
   "execution_count": 177,
   "metadata": {},
   "outputs": [
    {
     "data": {
      "text/plain": [
       "(SceneCollection of 10 scenes\n",
       "   * Dates: Jan 01, 1999 to Jan 10, 1999\n",
       "   * Products: daily-weather:gsod-interpolated:v0: 10,\n",
       " AOI(geometry=<shapely.geom...x7f78726b5110>,\n",
       "     resolution=0.08333333333333,\n",
       "     crs='+proj=latlon...GS84 +no_defs',\n",
       "     align_pixels=True,\n",
       "     bounds=(107.34351703986678, 32.472325344123774, 107.55648296013322, 32.652673360485856),\n",
       "     bounds_crs='EPSG:4326',\n",
       "     shape=None))"
      ]
     },
     "execution_count": 177,
     "metadata": {},
     "output_type": "execute_result"
    }
   ],
   "source": [
    "# Obtener las escenas del producto\n",
    "scenes, ctx = remas.search_scenes(polygons=remas2.geometry.values[0],\n",
    "                                  product_ids=[p_[\"id\"]])\n",
    "scenes, ctx"
   ]
  },
  {
   "cell_type": "markdown",
   "metadata": {},
   "source": [
    "# Tener la \"foto\" de un producto"
   ]
  },
  {
   "cell_type": "code",
   "execution_count": 178,
   "metadata": {},
   "outputs": [
    {
     "data": {
      "text/plain": [
       "Scene \"daily-weather:gsod-interpolated:v0:GSOD_WEATHER_19990110\"\n",
       "  * Product: \"daily-weather:gsod-interpolated:v0\"\n",
       "  * CRS: \"+proj=latlong +ellps=WGS84 +datum=WGS84 +no_defs\"\n",
       "  * Date: Sun Jan 10 00:00:00 1999\n",
       "  * Bands:\n",
       "    * prec: 0.08333333333333 degrees, Int16, [-32768.0, 32767.0] -> [-32768.0, 32767.0] in units \"prec\"\n",
       "    * rh: 0.08333333333333 degrees, Int16, [-32768.0, 32767.0] -> [-32768.0, 32767.0] in units \"rh\"\n",
       "    * tavg: 0.08333333333333 degrees, Int16, [-32768.0, 32767.0] -> [-32768.0, 32767.0] in units \"tavg\"\n",
       "    * tmax: 0.08333333333333 degrees, Int16, [-32768.0, 32767.0] -> [-32768.0, 32767.0] in units \"tmax\"\n",
       "    * tmin: 0.08333333333333 degrees, Int16, [-32768.0, 32767.0] -> [-32768.0, 32767.0] in units \"tmin\""
      ]
     },
     "execution_count": 178,
     "metadata": {},
     "output_type": "execute_result"
    }
   ],
   "source": [
    "scene = scenes[-1]\n",
    "scene"
   ]
  },
  {
   "cell_type": "code",
   "execution_count": 179,
   "metadata": {},
   "outputs": [
    {
     "data": {
      "text/plain": [
       "AOI(geometry=<shapely.geom...x7f78726b5110>,\n",
       "    resolution=0.08333333333333,\n",
       "    crs='+proj=latlon...GS84 +no_defs',\n",
       "    align_pixels=True,\n",
       "    bounds=(107.34351703986678, 32.472325344123774, 107.55648296013322, 32.652673360485856),\n",
       "    bounds_crs='EPSG:4326',\n",
       "    shape=None)"
      ]
     },
     "execution_count": 179,
     "metadata": {},
     "output_type": "execute_result"
    }
   ],
   "source": [
    "ctx"
   ]
  },
  {
   "cell_type": "code",
   "execution_count": 180,
   "metadata": {},
   "outputs": [
    {
     "data": {
      "text/plain": [
       "AOI(geometry=<shapely.geom...x7f787ca55d10>,\n",
       "    resolution=60,\n",
       "    crs='+proj=latlon...GS84 +no_defs',\n",
       "    align_pixels=True,\n",
       "    bounds=(107.34351703986678, 32.472325344123774, 107.55648296013322, 32.652673360485856),\n",
       "    bounds_crs='EPSG:4326',\n",
       "    shape=None)"
      ]
     },
     "execution_count": 180,
     "metadata": {},
     "output_type": "execute_result"
    }
   ],
   "source": [
    "ctx_lowres = ctx.assign(resolution=60)\n",
    "ctx_lowres"
   ]
  },
  {
   "cell_type": "code",
   "execution_count": 181,
   "metadata": {},
   "outputs": [
    {
     "data": {
      "text/plain": [
       "['tavg', 'tmax', 'tmin', 'rh', 'prec']"
      ]
     },
     "execution_count": 181,
     "metadata": {},
     "output_type": "execute_result"
    }
   ],
   "source": [
    "p_[\"bands\"]"
   ]
  },
  {
   "cell_type": "code",
   "execution_count": 182,
   "metadata": {},
   "outputs": [],
   "source": [
    "# help(scene.ndarray)"
   ]
  },
  {
   "cell_type": "code",
   "execution_count": 187,
   "metadata": {},
   "outputs": [],
   "source": [
    "arr = scene.ndarray(bands=p_[\"bands\"][1],\n",
    "                    ctx=ctx)"
   ]
  },
  {
   "cell_type": "code",
   "execution_count": 188,
   "metadata": {},
   "outputs": [
    {
     "data": {
      "image/png": "[encoded data removed]",
      "text/plain": [
       "<Figure size 720x720 with 1 Axes>"
      ]
     },
     "metadata": {
      "needs_background": "light"
     },
     "output_type": "display_data"
    }
   ],
   "source": [
    "dl.scenes.display(arr)"
   ]
  },
  {
   "cell_type": "code",
   "execution_count": null,
   "metadata": {},
   "outputs": [],
   "source": [
    "scene = scenes[-1]\n",
    "ctx_lowres = ctx.assign(resolution=60)\n",
    "arr = scene.ndarray(\"red green blue\", ctx_lowres)\n",
    "dl.scenes.display(arr)\n"
   ]
  },
  {
   "cell_type": "code",
   "execution_count": 68,
   "metadata": {},
   "outputs": [
    {
     "ename": "BadRequestError",
     "evalue": "Error with request:\n{\"message\":\"Output width or height is less than 1 pixel: width=0.5016614262660027 height=0.5015044233799656\",\"status_code\":400}\n\nFor reference, dl.Raster.ndarray was called with these arguments:\n{\n  \"inputs\": \"smap:SMPL3SM_E:SMAP_L3_SM_P_E_20150408_R16020_001-soil_moisture-east-v2\",\n  \"order\": \"gdal\",\n  \"bands\": [\n    \"am_soil_moisture\",\n    \"pm_soil_moisture\"\n  ],\n  \"scales\": null,\n  \"data_type\": \"Float32\",\n  \"resampler\": \"near\",\n  \"processing_level\": null,\n  \"cutline\": {\n    \"type\": \"Polygon\",\n    \"coordinates\": [\n      [\n        [\n          93.84161442403983,\n          25.67553403747568\n        ],\n        [\n          94.04098557596016,\n          25.67553403747568\n        ],\n        [\n          94.04098557596016,\n          25.856064843071547\n        ],\n        [\n          93.84161442403983,\n          25.856064843071547\n        ],\n        [\n          93.84161442403983,\n          25.67553403747568\n        ]\n      ]\n    ]\n  },\n  \"resolution\": 120,\n  \"srs\": \"+proj=longlat +datum=WGS84 +no_defs \",\n  \"bounds_srs\": \"EPSG:4326\",\n  \"align_pixels\": true,\n  \"bounds\": [\n    93.84161442403983,\n    25.67553403747568,\n    94.04098557596016,\n    25.856064843071547\n  ],\n  \"dimensions\": null\n}",
     "output_type": "error",
     "traceback": [
      "\u001b[0;31m---------------------------------------------------------------------------\u001b[0m",
      "\u001b[0;31mBadRequestError\u001b[0m                           Traceback (most recent call last)",
      "\u001b[0;32m<ipython-input-68-0fbb22327dfa>\u001b[0m in \u001b[0;36m<module>\u001b[0;34m\u001b[0m\n\u001b[1;32m      1\u001b[0m \u001b[0mhighres_context\u001b[0m \u001b[0;34m=\u001b[0m \u001b[0mctx\u001b[0m\u001b[0;34m.\u001b[0m\u001b[0massign\u001b[0m\u001b[0;34m(\u001b[0m\u001b[0mresolution\u001b[0m\u001b[0;34m=\u001b[0m\u001b[0;36m120\u001b[0m\u001b[0;34m)\u001b[0m\u001b[0;34m\u001b[0m\u001b[0;34m\u001b[0m\u001b[0m\n\u001b[0;32m----> 2\u001b[0;31m \u001b[0marr_stack\u001b[0m \u001b[0;34m=\u001b[0m \u001b[0mscenes\u001b[0m\u001b[0;34m.\u001b[0m\u001b[0mstack\u001b[0m\u001b[0;34m(\u001b[0m\u001b[0;34m\" \"\u001b[0m\u001b[0;34m.\u001b[0m\u001b[0mjoin\u001b[0m\u001b[0;34m(\u001b[0m\u001b[0msoil_m\u001b[0m\u001b[0;34m[\u001b[0m\u001b[0;34m\"bands\"\u001b[0m\u001b[0;34m]\u001b[0m\u001b[0;34m)\u001b[0m\u001b[0;34m,\u001b[0m \u001b[0mhighres_context\u001b[0m\u001b[0;34m)\u001b[0m\u001b[0;34m\u001b[0m\u001b[0;34m\u001b[0m\u001b[0m\n\u001b[0m\u001b[1;32m      3\u001b[0m \u001b[0mcomposite\u001b[0m \u001b[0;34m=\u001b[0m \u001b[0mnp\u001b[0m\u001b[0;34m.\u001b[0m\u001b[0mma\u001b[0m\u001b[0;34m.\u001b[0m\u001b[0mmedian\u001b[0m\u001b[0;34m(\u001b[0m\u001b[0marr_stack\u001b[0m\u001b[0;34m,\u001b[0m \u001b[0maxis\u001b[0m\u001b[0;34m=\u001b[0m\u001b[0;36m0\u001b[0m\u001b[0;34m)\u001b[0m\u001b[0;34m\u001b[0m\u001b[0;34m\u001b[0m\u001b[0m\n\u001b[1;32m      4\u001b[0m \u001b[0mdl\u001b[0m\u001b[0;34m.\u001b[0m\u001b[0mscenes\u001b[0m\u001b[0;34m.\u001b[0m\u001b[0mdisplay\u001b[0m\u001b[0;34m(\u001b[0m\u001b[0mcomposite\u001b[0m\u001b[0;34m,\u001b[0m \u001b[0mtitle\u001b[0m\u001b[0;34m=\u001b[0m\u001b[0;34m\"Región Metropolitana\"\u001b[0m\u001b[0;34m)\u001b[0m\u001b[0;34m\u001b[0m\u001b[0;34m\u001b[0m\u001b[0m\n",
      "\u001b[0;32m/opt/conda/lib/python3.7/site-packages/descarteslabs/scenes/scenecollection.py\u001b[0m in \u001b[0;36mstack\u001b[0;34m(self, bands, ctx, flatten, mask_nodata, mask_alpha, bands_axis, raster_info, resampler, processing_level, scaling, data_type, max_workers)\u001b[0m\n\u001b[1;32m    299\u001b[0m                         \u001b[0;32myield\u001b[0m \u001b[0mi\u001b[0m\u001b[0;34m,\u001b[0m \u001b[0mresult\u001b[0m\u001b[0;34m\u001b[0m\u001b[0;34m\u001b[0m\u001b[0m\n\u001b[1;32m    300\u001b[0m \u001b[0;34m\u001b[0m\u001b[0m\n\u001b[0;32m--> 301\u001b[0;31m         \u001b[0;32mfor\u001b[0m \u001b[0mi\u001b[0m\u001b[0;34m,\u001b[0m \u001b[0marr\u001b[0m \u001b[0;32min\u001b[0m \u001b[0mthreaded_ndarrays\u001b[0m\u001b[0;34m(\u001b[0m\u001b[0;34m)\u001b[0m\u001b[0;34m:\u001b[0m\u001b[0;34m\u001b[0m\u001b[0;34m\u001b[0m\u001b[0m\n\u001b[0m\u001b[1;32m    302\u001b[0m             \u001b[0;32mif\u001b[0m \u001b[0mraster_info\u001b[0m\u001b[0;34m:\u001b[0m\u001b[0;34m\u001b[0m\u001b[0;34m\u001b[0m\u001b[0m\n\u001b[1;32m    303\u001b[0m                 \u001b[0marr\u001b[0m\u001b[0;34m,\u001b[0m \u001b[0mraster_meta\u001b[0m \u001b[0;34m=\u001b[0m \u001b[0marr\u001b[0m\u001b[0;34m\u001b[0m\u001b[0;34m\u001b[0m\u001b[0m\n",
      "\u001b[0;32m/opt/conda/lib/python3.7/site-packages/descarteslabs/scenes/scenecollection.py\u001b[0m in \u001b[0;36mthreaded_ndarrays\u001b[0;34m()\u001b[0m\n\u001b[1;32m    296\u001b[0m                     \u001b[0;32mfor\u001b[0m \u001b[0mfuture\u001b[0m \u001b[0;32min\u001b[0m \u001b[0mfutures\u001b[0m\u001b[0;34m.\u001b[0m\u001b[0mas_completed\u001b[0m\u001b[0;34m(\u001b[0m\u001b[0mfuture_ndarrays\u001b[0m\u001b[0;34m)\u001b[0m\u001b[0;34m:\u001b[0m\u001b[0;34m\u001b[0m\u001b[0;34m\u001b[0m\u001b[0m\n\u001b[1;32m    297\u001b[0m                         \u001b[0mi\u001b[0m \u001b[0;34m=\u001b[0m \u001b[0mfuture_ndarrays\u001b[0m\u001b[0;34m[\u001b[0m\u001b[0mfuture\u001b[0m\u001b[0;34m]\u001b[0m\u001b[0;34m\u001b[0m\u001b[0;34m\u001b[0m\u001b[0m\n\u001b[0;32m--> 298\u001b[0;31m                         \u001b[0mresult\u001b[0m \u001b[0;34m=\u001b[0m \u001b[0mfuture\u001b[0m\u001b[0;34m.\u001b[0m\u001b[0mresult\u001b[0m\u001b[0;34m(\u001b[0m\u001b[0;34m)\u001b[0m\u001b[0;34m\u001b[0m\u001b[0;34m\u001b[0m\u001b[0m\n\u001b[0m\u001b[1;32m    299\u001b[0m                         \u001b[0;32myield\u001b[0m \u001b[0mi\u001b[0m\u001b[0;34m,\u001b[0m \u001b[0mresult\u001b[0m\u001b[0;34m\u001b[0m\u001b[0;34m\u001b[0m\u001b[0m\n\u001b[1;32m    300\u001b[0m \u001b[0;34m\u001b[0m\u001b[0m\n",
      "\u001b[0;32m/opt/conda/lib/python3.7/concurrent/futures/_base.py\u001b[0m in \u001b[0;36mresult\u001b[0;34m(self, timeout)\u001b[0m\n\u001b[1;32m    426\u001b[0m                 \u001b[0;32mraise\u001b[0m \u001b[0mCancelledError\u001b[0m\u001b[0;34m(\u001b[0m\u001b[0;34m)\u001b[0m\u001b[0;34m\u001b[0m\u001b[0;34m\u001b[0m\u001b[0m\n\u001b[1;32m    427\u001b[0m             \u001b[0;32melif\u001b[0m \u001b[0mself\u001b[0m\u001b[0;34m.\u001b[0m\u001b[0m_state\u001b[0m \u001b[0;34m==\u001b[0m \u001b[0mFINISHED\u001b[0m\u001b[0;34m:\u001b[0m\u001b[0;34m\u001b[0m\u001b[0;34m\u001b[0m\u001b[0m\n\u001b[0;32m--> 428\u001b[0;31m                 \u001b[0;32mreturn\u001b[0m \u001b[0mself\u001b[0m\u001b[0;34m.\u001b[0m\u001b[0m__get_result\u001b[0m\u001b[0;34m(\u001b[0m\u001b[0;34m)\u001b[0m\u001b[0;34m\u001b[0m\u001b[0;34m\u001b[0m\u001b[0m\n\u001b[0m\u001b[1;32m    429\u001b[0m \u001b[0;34m\u001b[0m\u001b[0m\n\u001b[1;32m    430\u001b[0m             \u001b[0mself\u001b[0m\u001b[0;34m.\u001b[0m\u001b[0m_condition\u001b[0m\u001b[0;34m.\u001b[0m\u001b[0mwait\u001b[0m\u001b[0;34m(\u001b[0m\u001b[0mtimeout\u001b[0m\u001b[0;34m)\u001b[0m\u001b[0;34m\u001b[0m\u001b[0;34m\u001b[0m\u001b[0m\n",
      "\u001b[0;32m/opt/conda/lib/python3.7/concurrent/futures/_base.py\u001b[0m in \u001b[0;36m__get_result\u001b[0;34m(self)\u001b[0m\n\u001b[1;32m    382\u001b[0m     \u001b[0;32mdef\u001b[0m \u001b[0m__get_result\u001b[0m\u001b[0;34m(\u001b[0m\u001b[0mself\u001b[0m\u001b[0;34m)\u001b[0m\u001b[0;34m:\u001b[0m\u001b[0;34m\u001b[0m\u001b[0;34m\u001b[0m\u001b[0m\n\u001b[1;32m    383\u001b[0m         \u001b[0;32mif\u001b[0m \u001b[0mself\u001b[0m\u001b[0;34m.\u001b[0m\u001b[0m_exception\u001b[0m\u001b[0;34m:\u001b[0m\u001b[0;34m\u001b[0m\u001b[0;34m\u001b[0m\u001b[0m\n\u001b[0;32m--> 384\u001b[0;31m             \u001b[0;32mraise\u001b[0m \u001b[0mself\u001b[0m\u001b[0;34m.\u001b[0m\u001b[0m_exception\u001b[0m\u001b[0;34m\u001b[0m\u001b[0;34m\u001b[0m\u001b[0m\n\u001b[0m\u001b[1;32m    385\u001b[0m         \u001b[0;32melse\u001b[0m\u001b[0;34m:\u001b[0m\u001b[0;34m\u001b[0m\u001b[0;34m\u001b[0m\u001b[0m\n\u001b[1;32m    386\u001b[0m             \u001b[0;32mreturn\u001b[0m \u001b[0mself\u001b[0m\u001b[0;34m.\u001b[0m\u001b[0m_result\u001b[0m\u001b[0;34m\u001b[0m\u001b[0;34m\u001b[0m\u001b[0m\n",
      "\u001b[0;32m/opt/conda/lib/python3.7/concurrent/futures/thread.py\u001b[0m in \u001b[0;36mrun\u001b[0;34m(self)\u001b[0m\n\u001b[1;32m     55\u001b[0m \u001b[0;34m\u001b[0m\u001b[0m\n\u001b[1;32m     56\u001b[0m         \u001b[0;32mtry\u001b[0m\u001b[0;34m:\u001b[0m\u001b[0;34m\u001b[0m\u001b[0;34m\u001b[0m\u001b[0m\n\u001b[0;32m---> 57\u001b[0;31m             \u001b[0mresult\u001b[0m \u001b[0;34m=\u001b[0m \u001b[0mself\u001b[0m\u001b[0;34m.\u001b[0m\u001b[0mfn\u001b[0m\u001b[0;34m(\u001b[0m\u001b[0;34m*\u001b[0m\u001b[0mself\u001b[0m\u001b[0;34m.\u001b[0m\u001b[0margs\u001b[0m\u001b[0;34m,\u001b[0m \u001b[0;34m**\u001b[0m\u001b[0mself\u001b[0m\u001b[0;34m.\u001b[0m\u001b[0mkwargs\u001b[0m\u001b[0;34m)\u001b[0m\u001b[0;34m\u001b[0m\u001b[0;34m\u001b[0m\u001b[0m\n\u001b[0m\u001b[1;32m     58\u001b[0m         \u001b[0;32mexcept\u001b[0m \u001b[0mBaseException\u001b[0m \u001b[0;32mas\u001b[0m \u001b[0mexc\u001b[0m\u001b[0;34m:\u001b[0m\u001b[0;34m\u001b[0m\u001b[0;34m\u001b[0m\u001b[0m\n\u001b[1;32m     59\u001b[0m             \u001b[0mself\u001b[0m\u001b[0;34m.\u001b[0m\u001b[0mfuture\u001b[0m\u001b[0;34m.\u001b[0m\u001b[0mset_exception\u001b[0m\u001b[0;34m(\u001b[0m\u001b[0mexc\u001b[0m\u001b[0;34m)\u001b[0m\u001b[0;34m\u001b[0m\u001b[0;34m\u001b[0m\u001b[0m\n",
      "\u001b[0;32m/opt/conda/lib/python3.7/site-packages/descarteslabs/scenes/scenecollection.py\u001b[0m in \u001b[0;36m<lambda>\u001b[0;34m()\u001b[0m\n\u001b[1;32m    273\u001b[0m                 \u001b[0;32melse\u001b[0m\u001b[0;34m:\u001b[0m\u001b[0;34m\u001b[0m\u001b[0;34m\u001b[0m\u001b[0m\n\u001b[1;32m    274\u001b[0m                     return lambda: scene_or_scenecollection.ndarray(\n\u001b[0;32m--> 275\u001b[0;31m                         \u001b[0mbands\u001b[0m\u001b[0;34m,\u001b[0m \u001b[0mctx\u001b[0m\u001b[0;34m,\u001b[0m \u001b[0;34m**\u001b[0m\u001b[0mndarray_kwargs\u001b[0m\u001b[0;34m\u001b[0m\u001b[0;34m\u001b[0m\u001b[0m\n\u001b[0m\u001b[1;32m    276\u001b[0m                     )\n\u001b[1;32m    277\u001b[0m \u001b[0;34m\u001b[0m\u001b[0m\n",
      "\u001b[0;32m/opt/conda/lib/python3.7/site-packages/descarteslabs/scenes/scene.py\u001b[0m in \u001b[0;36mndarray\u001b[0;34m(self, bands, ctx, mask_nodata, mask_alpha, bands_axis, raster_info, resampler, processing_level, scaling, data_type, raster_client)\u001b[0m\n\u001b[1;32m    536\u001b[0m             )\n\u001b[1;32m    537\u001b[0m             \u001b[0mmsg\u001b[0m \u001b[0;34m=\u001b[0m \u001b[0mmsg\u001b[0m\u001b[0;34m.\u001b[0m\u001b[0mformat\u001b[0m\u001b[0;34m(\u001b[0m\u001b[0merr\u001b[0m\u001b[0;34m=\u001b[0m\u001b[0me\u001b[0m\u001b[0;34m,\u001b[0m \u001b[0margs\u001b[0m\u001b[0;34m=\u001b[0m\u001b[0mjson\u001b[0m\u001b[0;34m.\u001b[0m\u001b[0mdumps\u001b[0m\u001b[0;34m(\u001b[0m\u001b[0mfull_raster_args\u001b[0m\u001b[0;34m,\u001b[0m \u001b[0mindent\u001b[0m\u001b[0;34m=\u001b[0m\u001b[0;36m2\u001b[0m\u001b[0;34m)\u001b[0m\u001b[0;34m)\u001b[0m\u001b[0;34m\u001b[0m\u001b[0;34m\u001b[0m\u001b[0m\n\u001b[0;32m--> 538\u001b[0;31m             \u001b[0msix\u001b[0m\u001b[0;34m.\u001b[0m\u001b[0mraise_from\u001b[0m\u001b[0;34m(\u001b[0m\u001b[0mBadRequestError\u001b[0m\u001b[0;34m(\u001b[0m\u001b[0mmsg\u001b[0m\u001b[0;34m)\u001b[0m\u001b[0;34m,\u001b[0m \u001b[0;32mNone\u001b[0m\u001b[0;34m)\u001b[0m\u001b[0;34m\u001b[0m\u001b[0;34m\u001b[0m\u001b[0m\n\u001b[0m\u001b[1;32m    539\u001b[0m \u001b[0;34m\u001b[0m\u001b[0m\n\u001b[1;32m    540\u001b[0m         \u001b[0;32mif\u001b[0m \u001b[0mlen\u001b[0m\u001b[0;34m(\u001b[0m\u001b[0marr\u001b[0m\u001b[0;34m.\u001b[0m\u001b[0mshape\u001b[0m\u001b[0;34m)\u001b[0m \u001b[0;34m==\u001b[0m \u001b[0;36m2\u001b[0m\u001b[0;34m:\u001b[0m\u001b[0;34m\u001b[0m\u001b[0;34m\u001b[0m\u001b[0m\n",
      "\u001b[0;32m/opt/conda/lib/python3.7/site-packages/six.py\u001b[0m in \u001b[0;36mraise_from\u001b[0;34m(value, from_value)\u001b[0m\n",
      "\u001b[0;31mBadRequestError\u001b[0m: Error with request:\n{\"message\":\"Output width or height is less than 1 pixel: width=0.5016614262660027 height=0.5015044233799656\",\"status_code\":400}\n\nFor reference, dl.Raster.ndarray was called with these arguments:\n{\n  \"inputs\": \"smap:SMPL3SM_E:SMAP_L3_SM_P_E_20150408_R16020_001-soil_moisture-east-v2\",\n  \"order\": \"gdal\",\n  \"bands\": [\n    \"am_soil_moisture\",\n    \"pm_soil_moisture\"\n  ],\n  \"scales\": null,\n  \"data_type\": \"Float32\",\n  \"resampler\": \"near\",\n  \"processing_level\": null,\n  \"cutline\": {\n    \"type\": \"Polygon\",\n    \"coordinates\": [\n      [\n        [\n          93.84161442403983,\n          25.67553403747568\n        ],\n        [\n          94.04098557596016,\n          25.67553403747568\n        ],\n        [\n          94.04098557596016,\n          25.856064843071547\n        ],\n        [\n          93.84161442403983,\n          25.856064843071547\n        ],\n        [\n          93.84161442403983,\n          25.67553403747568\n        ]\n      ]\n    ]\n  },\n  \"resolution\": 120,\n  \"srs\": \"+proj=longlat +datum=WGS84 +no_defs \",\n  \"bounds_srs\": \"EPSG:4326\",\n  \"align_pixels\": true,\n  \"bounds\": [\n    93.84161442403983,\n    25.67553403747568,\n    94.04098557596016,\n    25.856064843071547\n  ],\n  \"dimensions\": null\n}"
     ]
    }
   ],
   "source": [
    "highres_context = ctx.assign(resolution=120)\n",
    "arr_stack = scenes.stack(\" \".join(soil_m[\"bands\"]), highres_context)\n",
    "composite = np.ma.median(arr_stack, axis=0)\n",
    "dl.scenes.display(composite, title=\"Región Metropolitana\")"
   ]
  },
  {
   "cell_type": "code",
   "execution_count": null,
   "metadata": {},
   "outputs": [],
   "source": []
  },
  {
   "cell_type": "code",
   "execution_count": null,
   "metadata": {},
   "outputs": [],
   "source": []
  },
  {
   "cell_type": "code",
   "execution_count": null,
   "metadata": {},
   "outputs": [],
   "source": []
  },
  {
   "cell_type": "code",
   "execution_count": 6,
   "metadata": {},
   "outputs": [],
   "source": [
    "remas = ReMasFrame()"
   ]
  },
  {
   "cell_type": "code",
   "execution_count": 7,
   "metadata": {},
   "outputs": [],
   "source": [
    "prod = remas.get_products()"
   ]
  },
  {
   "cell_type": "code",
   "execution_count": 8,
   "metadata": {},
   "outputs": [],
   "source": [
    "goes = prod[\"weather\"][\"goes\"]"
   ]
  },
  {
   "cell_type": "code",
   "execution_count": 10,
   "metadata": {},
   "outputs": [
    {
     "data": {
      "text/plain": [
       "'goes17:fulldisk:v1'"
      ]
     },
     "execution_count": 10,
     "metadata": {},
     "output_type": "execute_result"
    }
   ],
   "source": [
    "goes[\"id\"]"
   ]
  },
  {
   "cell_type": "code",
   "execution_count": 18,
   "metadata": {},
   "outputs": [
    {
     "name": "stdout",
     "output_type": "stream",
     "text": [
      "Help on method create_box in module src.ReMasFrame:\n",
      "\n",
      "create_box(km, inplace=False) method of src.ReMasFrame.ReMasFrame instance\n",
      "\n"
     ]
    }
   ],
   "source": [
    "help(remas.create_box)"
   ]
  },
  {
   "cell_type": "code",
   "execution_count": 17,
   "metadata": {},
   "outputs": [],
   "source": [
    "remas2 = remas.create_box(10)"
   ]
  },
  {
   "cell_type": "code",
   "execution_count": 19,
   "metadata": {},
   "outputs": [
    {
     "data": {
      "image/svg+xml": [
       "<svg xmlns=\"http://www.w3.org/2000/svg\" xmlns:xlink=\"http://www.w3.org/1999/xlink\" width=\"100.0\" height=\"100.0\" viewBox=\"107.33499840305612 32.46380670731312 0.23000319388776802 0.19738528998339433\" preserveAspectRatio=\"xMinYMin meet\"><g transform=\"matrix(1,0,0,-1,0,65.12499870460962)\"><path fill-rule=\"evenodd\" fill=\"#66cc99\" stroke=\"#555555\" stroke-width=\"0.00460006387775536\" opacity=\"0.6\" d=\"M 107.34351703986678,32.472325344123774 L 107.55648296013322,32.472325344123774 L 107.55648296013322,32.652673360485856 L 107.34351703986678,32.652673360485856 L 107.34351703986678,32.472325344123774 z\" /></g></svg>"
      ],
      "text/plain": [
       "<shapely.geometry.polygon.Polygon at 0x7f787d70bf50>"
      ]
     },
     "execution_count": 19,
     "metadata": {},
     "output_type": "execute_result"
    }
   ],
   "source": [
    "remas2[0]"
   ]
  },
  {
   "cell_type": "code",
   "execution_count": 11,
   "metadata": {},
   "outputs": [
    {
     "name": "stdout",
     "output_type": "stream",
     "text": [
      "Help on function search_scenes in module src.ReMasFrame:\n",
      "\n",
      "search_scenes(polygons, product_ids, mid_date=None, date_range=None, start_date=None, end_date=None, limit=10)\n",
      "    Search scenes from the dataframe between an interval of dates.\n",
      "    \n",
      "    Arguments:\n",
      "    ---------\n",
      "        product_ids : list\n",
      "            product ids, e.g. [\"landsat:LC08:PRE:TOAR\"]\n",
      "        \n",
      "        mid_date : str\n",
      "            date to create an interval around. Ignored if start/end_date is given.\n",
      "        \n",
      "        date_range : int\n",
      "            size of one half of the interval. Ignored if start/end_date is given.\n",
      "    \n",
      "        start_date, end_date : int, int. Optional\n",
      "            start and end date of an interval.\n",
      "        \n",
      "        limit : int \n",
      "            maximum number of images\n",
      "    \n",
      "    Returns:\n",
      "    -------\n",
      "    scenes : ndarray\n",
      "        Result from Descarteslabs\n",
      "    \n",
      "    ctx : context \n",
      "        Result from Descarteslabs\n",
      "\n"
     ]
    }
   ],
   "source": [
    "help(remas.search_scenes)"
   ]
  },
  {
   "cell_type": "code",
   "execution_count": 20,
   "metadata": {},
   "outputs": [
    {
     "data": {
      "text/plain": [
       "(SceneCollection of 0 scenes,\n",
       " AOI(geometry=<shapely.geom...x7f787d70bf50>,\n",
       "     resolution=None,\n",
       "     crs=None,\n",
       "     align_pixels=True,\n",
       "     bounds=(107.34351703986678, 32.472325344123774, 107.55648296013322, 32.652673360485856),\n",
       "     bounds_crs='EPSG:4326',\n",
       "     shape=None))"
      ]
     },
     "execution_count": 20,
     "metadata": {},
     "output_type": "execute_result"
    }
   ],
   "source": [
    "remas.search_scenes(polygons=remas2.geometry.values[0],\n",
    "                    product_ids=[goes[\"id\"]])"
   ]
  },
  {
   "cell_type": "code",
   "execution_count": 12,
   "metadata": {},
   "outputs": [
    {
     "ename": "NameError",
     "evalue": "name 'date_interval' is not defined",
     "output_type": "error",
     "traceback": [
      "\u001b[0;31m---------------------------------------------------------------------------\u001b[0m",
      "\u001b[0;31mNameError\u001b[0m                                 Traceback (most recent call last)",
      "\u001b[0;32m<ipython-input-12-d089b07723c9>\u001b[0m in \u001b[0;36m<module>\u001b[0;34m\u001b[0m\n\u001b[1;32m      2\u001b[0m                     \u001b[0;34m\"2013-09-01\"\u001b[0m\u001b[0;34m,\u001b[0m\u001b[0;34m\u001b[0m\u001b[0;34m\u001b[0m\u001b[0m\n\u001b[1;32m      3\u001b[0m                     \u001b[0;36m10\u001b[0m\u001b[0;34m,\u001b[0m\u001b[0;34m\u001b[0m\u001b[0;34m\u001b[0m\u001b[0m\n\u001b[0;32m----> 4\u001b[0;31m                     1)\n\u001b[0m",
      "\u001b[0;32m~/Landslide_EarlyDetection/src/ReMasFrame.py\u001b[0m in \u001b[0;36msearch_scenes\u001b[0;34m(polygons, product_ids, mid_date, date_range, start_date, end_date, limit)\u001b[0m\n\u001b[1;32m    107\u001b[0m \u001b[0;34m\u001b[0m\u001b[0m\n\u001b[1;32m    108\u001b[0m         \u001b[0;32mif\u001b[0m \u001b[0mmid_date\u001b[0m \u001b[0;32mis\u001b[0m \u001b[0;32mnot\u001b[0m \u001b[0;32mNone\u001b[0m \u001b[0;32mand\u001b[0m \u001b[0mdate_range\u001b[0m \u001b[0;32mis\u001b[0m \u001b[0;32mnot\u001b[0m \u001b[0;32mNone\u001b[0m\u001b[0;34m:\u001b[0m\u001b[0;34m\u001b[0m\u001b[0;34m\u001b[0m\u001b[0m\n\u001b[0;32m--> 109\u001b[0;31m             \u001b[0mstart_date\u001b[0m\u001b[0;34m,\u001b[0m \u001b[0mend_date\u001b[0m \u001b[0;34m=\u001b[0m \u001b[0mdate_interval\u001b[0m\u001b[0;34m(\u001b[0m\u001b[0mself\u001b[0m\u001b[0;34m.\u001b[0m\u001b[0mdate\u001b[0m\u001b[0;34m,\u001b[0m \u001b[0mdelta\u001b[0m\u001b[0;34m=\u001b[0m\u001b[0mdate_range\u001b[0m\u001b[0;34m)\u001b[0m\u001b[0;34m\u001b[0m\u001b[0;34m\u001b[0m\u001b[0m\n\u001b[0m\u001b[1;32m    110\u001b[0m \u001b[0;34m\u001b[0m\u001b[0m\n\u001b[1;32m    111\u001b[0m         scenes, ctx = dl.scenes.search(\n",
      "\u001b[0;31mNameError\u001b[0m: name 'date_interval' is not defined"
     ]
    }
   ],
   "source": [
    "remas.search_scenes([goes[\"id\"]],\n",
    "                    mid_date=\"2013-09-01\",\n",
    "                    10,\n",
    "                    1)"
   ]
  },
  {
   "cell_type": "code",
   "execution_count": null,
   "metadata": {},
   "outputs": [],
   "source": [
    "ids = [dictic[prod][\"id\"] for prod in dictic]"
   ]
  }
 ],
 "metadata": {
  "kernelspec": {
   "display_name": "Python 3",
   "language": "python",
   "name": "python3"
  },
  "language_info": {
   "codemirror_mode": {
    "name": "ipython",
    "version": 3
   },
   "file_extension": ".py",
   "mimetype": "text/x-python",
   "name": "python",
   "nbconvert_exporter": "python",
   "pygments_lexer": "ipython3",
   "version": "3.7.8"
  }
 },
 "nbformat": 4,
 "nbformat_minor": 4
}
